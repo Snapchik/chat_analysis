{
 "cells": [
  {
   "cell_type": "markdown",
   "metadata": {
    "colab_type": "text",
    "id": "view-in-github"
   },
   "source": [
    "<a href=\"https://colab.research.google.com/github/Snapchik/chat_analysis/blob/main/Chats_copmparisson.ipynb\" target=\"_parent\"><img src=\"https://colab.research.google.com/assets/colab-badge.svg\" alt=\"Open In Colab\"/></a>"
   ]
  },
  {
   "cell_type": "code",
   "execution_count": 1,
   "metadata": {
    "id": "ZPFxGimGvMJk"
   },
   "outputs": [],
   "source": [
    "import pandas as pd\n",
    "import numpy as np\n",
    "import matplotlib.pyplot as plt\n",
    "import nltk\n",
    "import string\n",
    "\n",
    "import torch\n",
    "import torch.optim as optim\n",
    "import torch.nn as nn\n",
    "\n",
    "import utils\n",
    "\n",
    "from nltk.corpus import stopwords          # module for stop words that come with NLTK\n",
    "from nltk.stem import PorterStemmer        # module for stemming\n",
    "from nltk.probability import FreqDist      # module for counting word frequency"
   ]
  },
  {
   "cell_type": "code",
   "execution_count": 2,
   "metadata": {
    "colab": {
     "base_uri": "https://localhost:8080/"
    },
    "id": "1BRURrcUvUb4",
    "outputId": "f8f002fe-35fb-478d-f2de-45007aca4493",
    "scrolled": true
   },
   "outputs": [],
   "source": [
    "# from google.colab import drive\n",
    "# drive.mount('/content/drive')"
   ]
  },
  {
   "cell_type": "code",
   "execution_count": 3,
   "metadata": {
    "id": "pTWLwDUM0qG6"
   },
   "outputs": [
    {
     "name": "stderr",
     "output_type": "stream",
     "text": [
      "/Users/timurburhanov/Projects/GitHub/chat_analysis/utils.py:31: FutureWarning: Series.__getitem__ treating keys as positions is deprecated. In a future version, integer keys will always be treated as labels (consistent with DataFrame behavior). To access a value by position, use `ser.iloc[pos]`\n",
      "  for i in row[1]:\n"
     ]
    }
   ],
   "source": [
    "# For Colab usage\n",
    "# hammas_chat = pd.read_json('/content/drive/My Drive/Colab Notebooks/result.json')\n",
    "\n",
    "stopwords_english = stopwords.words('english')\n",
    "stemmer = PorterStemmer()\n",
    "\n",
    "hammas_chat = pd.read_json('Chats_exports/H.json')\n",
    "\n",
    "# extracts date and text from a dictionary under similar key\n",
    "hammas_norm = pd.json_normalize(hammas_chat['messages'])\n",
    "\n",
    "hammas_norm_drop = hammas_norm.drop(columns=[\n",
    "       'id', 'type','date_unixtime', 'actor', 'actor_id', 'action',\n",
    "       'title', 'edited', 'edited_unixtime', 'from',\n",
    "       'from_id', 'message_id', 'file', 'thumbnail', 'media_type', 'mime_type',\n",
    "       'duration_seconds', 'width', 'height', 'photo', 'reply_to_message_id',\n",
    "       'forwarded_from', 'performer', 'poll.question', 'poll.closed',\n",
    "       'poll.total_voters', 'poll.answers','text_entities'\n",
    "       ])\n",
    "hammas_norm_drop = hammas_norm_drop.replace('', np.nan).dropna(subset = ['text'])\n",
    "hammas_norm_drop['date']= pd.to_datetime(hammas_norm_drop['date'])\n",
    "\n",
    "#extracting hashtags\n",
    "hammas_norm_drop['hashtags'] = hammas_norm_drop['text'].apply(utils.extract_hashtags)\n",
    "\n",
    "# apply the function to all rows\n",
    "hammas_norm_drop['extracted_text'] = hammas_norm_drop.apply(utils.extract_text, axis=1)\n",
    "\n",
    "#Some preprocessing steps that I found necessary for telegram chat\n",
    "\n",
    "#clearing out some common misspellings and hyperlink\n",
    "hammas_norm_drop['extracted_text'] = hammas_norm_drop['extracted_text'].str.replace('\\n', '')\n",
    "hammas_norm_drop['extracted_text'] = hammas_norm_drop['extracted_text'].str.replace('text_link', '')\n",
    "hammas_norm_drop['extracted_text'] = hammas_norm_drop['extracted_text'].str.replace(r'https?://[^\\s\\n\\r]+', '', regex=True)\n",
    "hammas_norm_drop['extracted_text'] = hammas_norm_drop['extracted_text'].str.replace(r'bold\\B', '', regex=True)\n",
    "hammas_norm_drop['extracted_text'] = hammas_norm_drop['extracted_text'].str.replace(r'#', '',regex=True)\n",
    "hammas_norm_drop['extracted_text'] = hammas_norm_drop['extracted_text'].str.replace('hashtag', '')\n",
    "hammas_norm_drop['extracted_text'] = hammas_norm_drop['extracted_text'].str.replace('italic', '')\n",
    "hammas_norm_drop['extracted_text'] = hammas_norm_drop['extracted_text'].str.replace('_', '')\n",
    "hammas_norm_drop['extracted_text'] = hammas_norm_drop['extracted_text'].str.replace('—', '')\n",
    "\n",
    "\n",
    "hammas_norm_drop['messages_token'] = hammas_norm_drop[\"extracted_text\"].str.lower().apply(nltk.word_tokenize)\n",
    "\n",
    "\n",
    "hammas_norm_drop['tokens_without_stopwords'] = hammas_norm_drop['messages_token'].apply(lambda x:\n",
    "     [word for word in x if word not in (stopwords_english) and word not in string.punctuation])\n",
    "\n",
    "hammas_norm_drop['stemmed_tokens_wt_stopwords_punctuation'] = hammas_norm_drop['tokens_without_stopwords'].apply(lambda x: [stemmer.stem(word) for word in x])"
   ]
  },
  {
   "cell_type": "code",
   "execution_count": 4,
   "metadata": {
    "id": "8cqeQDwA0sf3"
   },
   "outputs": [
    {
     "name": "stderr",
     "output_type": "stream",
     "text": [
      "/Users/timurburhanov/Projects/GitHub/chat_analysis/utils.py:31: FutureWarning: Series.__getitem__ treating keys as positions is deprecated. In a future version, integer keys will always be treated as labels (consistent with DataFrame behavior). To access a value by position, use `ser.iloc[pos]`\n",
      "  for i in row[1]:\n"
     ]
    }
   ],
   "source": [
    "# For Colab usage\n",
    "# IDF_chat = pd.read_json('/content/drive/My Drive/Colab Notebooks/IDF.json')\n",
    "\n",
    "\n",
    "IDF_chat = pd.read_json('Chats_exports/IDF.json')\n",
    "\n",
    "# extracts date and text from a dictionary under similar key\n",
    "IDF_norm = pd.json_normalize(IDF_chat['messages'])\n",
    "\n",
    "IDF_norm_drop = IDF_norm.drop(columns=['id', 'type','date_unixtime', 'actor', 'actor_id', 'action',\n",
    "       'title', 'edited', 'edited_unixtime', 'from',\n",
    "       'from_id', 'file', 'thumbnail', 'media_type', 'mime_type',\n",
    "       'duration_seconds', 'width', 'height', 'photo', 'reply_to_message_id',\n",
    "       'text_entities', 'duration', 'file_name'])\n",
    "IDF_norm_drop = IDF_norm_drop.replace('', np.nan).dropna(subset = ['text'])\n",
    "IDF_norm_drop['date']= pd.to_datetime(IDF_norm_drop['date'])\n",
    "\n",
    "# apply the function to all rows\n",
    "IDF_norm_drop['extracted_text'] = IDF_norm_drop.apply(utils.extract_text, axis=1)\n",
    "\n",
    "#Big preprocessing steps\n",
    "\n",
    "#clearing out some common misspellings and hyperlink\n",
    "IDF_norm_drop['extracted_text'] = IDF_norm_drop['extracted_text'].str.replace('\\n', '')\n",
    "IDF_norm_drop['extracted_text'] = IDF_norm_drop['extracted_text'].str.replace('text_link', '')\n",
    "IDF_norm_drop['extracted_text'] = IDF_norm_drop['extracted_text'].str.replace(r'https?://[^\\s\\n\\r]+', '', regex=True)\n",
    "IDF_norm_drop['extracted_text'] = IDF_norm_drop['extracted_text'].str.replace(r'bold\\B', '', regex=True)\n",
    "IDF_norm_drop['extracted_text'] = IDF_norm_drop['extracted_text'].str.replace(r'#', '',regex=True)\n",
    "IDF_norm_drop['extracted_text'] = IDF_norm_drop['extracted_text'].str.replace('hashtag', '')\n",
    "IDF_norm_drop['extracted_text'] = IDF_norm_drop['extracted_text'].str.replace('italic', '')\n",
    "IDF_norm_drop['extracted_text'] = IDF_norm_drop['extracted_text'].str.replace('_', '')\n",
    "IDF_norm_drop['extracted_text'] = IDF_norm_drop['extracted_text'].str.replace('—', '')\n",
    "IDF_norm_drop['extracted_text'] = IDF_norm_drop['extracted_text'].str.replace('-', '')\n",
    "\n",
    "\n",
    "#applying tokenizer\n",
    "IDF_norm_drop['messages_token'] = IDF_norm_drop[\"extracted_text\"].str.lower().apply(nltk.word_tokenize)\n",
    "\n",
    "\n",
    "IDF_norm_drop['tokens_without_stopwords'] = IDF_norm_drop['messages_token'].apply(\n",
    "     lambda x: [word for word in x if word not in stopwords_english and word not in string.punctuation])\n",
    "\n",
    "\n",
    "IDF_norm_drop['stemmed_tokens_wt_stopwords_punctuation'] = IDF_norm_drop['tokens_without_stopwords'].apply(lambda x: [stemmer.stem(word) for word in x])"
   ]
  },
  {
   "cell_type": "code",
   "execution_count": 5,
   "metadata": {
    "id": "mfnazurfDx4p"
   },
   "outputs": [],
   "source": [
    "#Instantiating data to a separate variables\n",
    "\n",
    "idf_text = IDF_norm_drop['extracted_text']\n",
    "idf_text_list = idf_text.tolist()\n",
    "hammas_text = hammas_norm_drop['extracted_text'][:len(idf_text_list)]\n",
    "hammas_text_list = hammas_text.tolist()\n",
    "\n",
    "#idf_tokens = idf_tokens.apply(lambda x: ', '.join(x))\n",
    "#hammas_tokens = hammas_tokens.apply(lambda x: ', '.join(x))\n",
    "all_text = hammas_text + idf_text\n",
    "\n",
    "# split the data into two pieces, one for training and one for testing (validation set)\n",
    "#I have around 8000 messages in total\n",
    "test_ham = hammas_text_list[6000:]\n",
    "train_ham = hammas_text_list[:6000]\n",
    "\n",
    "test_idf = idf_text_list[6000:]\n",
    "train_idf = idf_text_list[:6000]\n",
    "\n",
    "\n",
    "train_x = train_ham + train_idf\n",
    "test_x = test_ham + test_idf"
   ]
  },
  {
   "cell_type": "code",
   "execution_count": null,
   "metadata": {
    "colab": {
     "base_uri": "https://localhost:8080/"
    },
    "id": "R9K74XfuFE6a",
    "outputId": "4f28f5fa-b739-4c1b-a938-3b31184cdb0a",
    "scrolled": true
   },
   "outputs": [
    {
     "name": "stdout",
     "output_type": "stream",
     "text": [
      "train_y.shape = (12000, 1)\n",
      "test_y.shape = (4452, 1)\n",
      "type(freqs) = <class 'dict'>\n",
      "len(freqs) = 22093\n"
     ]
    }
   ],
   "source": [
    "# combine positive and negative labels\n",
    "train_y = np.append(np.ones((len(train_ham), 1)), np.zeros((len(train_idf), 1)), axis=0)\n",
    "test_y = np.append(np.ones((len(test_ham), 1)), np.zeros((len(test_idf), 1)), axis=0)\n",
    "\n",
    "# Print the shape train and test sets\n",
    "print(\"train_y.shape = \" + str(train_y.shape))\n",
    "print(\"test_y.shape = \" + str(test_y.shape))\n",
    "\n",
    "# create frequency dictionary\n",
    "freqs = utils.build_freqs(train_x, train_y)\n",
    "\n",
    "# check the output\n",
    "print(\"type(freqs) = \" + str(type(freqs)))\n",
    "print(\"len(freqs) = \" + str(len(freqs.keys())))\n",
    "\n",
    "\n",
    "# collect the features 'x' and stack them into a matrix 'X'\n",
    "X = np.zeros((len(train_x), 3))\n",
    "for i in range(len(train_x)):\n",
    "    X[i, :]= utils.extract_features(train_x[i], freqs)\n",
    "\n",
    "# training labels corresponding to X\n",
    "Y = train_y\n",
    "\n",
    "# Apply gradient descent\n",
    "J, theta = utils.gradientDescent(X, Y, np.zeros((3, 1)), 1e-9, 15000)\n",
    "print(f\"The cost after training is {J:.8f}.\")\n",
    "print(f\"The resulting vector of weights is {[round(t, 8) for t in np.squeeze(theta)]}\")\n"
   ]
  },
  {
   "cell_type": "code",
   "execution_count": null,
   "metadata": {},
   "outputs": [],
   "source": [
    "train_y == Y"
   ]
  },
  {
   "cell_type": "code",
   "execution_count": null,
   "metadata": {
    "colab": {
     "base_uri": "https://localhost:8080/"
    },
    "id": "LW3VXRsfs9Y1",
    "outputId": "def91845-6502-44e8-ab64-113dfa4cdfd3"
   },
   "outputs": [],
   "source": [
    "for text in ['resistance martyr fighter zionists']:\n",
    "  print( '%s -> %f' % (text, utils.predict_text(text, freqs, theta)))"
   ]
  },
  {
   "cell_type": "code",
   "execution_count": null,
   "metadata": {
    "colab": {
     "base_uri": "https://localhost:8080/"
    },
    "id": "uX4BOigts9V-",
    "outputId": "676e8835-5f63-489d-8172-7d528e8963e7"
   },
   "outputs": [],
   "source": [
    "# Some error analysis done for you\n",
    "print('Label Predicted Tweet')\n",
    "for x,y in zip(test_x,test_y):\n",
    "    y_hat = utils.predict_text(x, freqs, theta)\n",
    "\n",
    "    if np.abs(y - (y_hat > 0.5)) > 0:\n",
    "        print('THE TWEET IS:', x)\n",
    "        print('THE PROCESSED TWEET IS:', utils.process_text(x))\n",
    "        print('%d\\t%0.8f\\t%s' % (y, y_hat, ' '.join(utils.process_text(x)).encode('ascii', 'ignore')))"
   ]
  },
  {
   "cell_type": "markdown",
   "metadata": {},
   "source": [
    "# Doing the same but using PyTorch below\n"
   ]
  },
  {
   "cell_type": "code",
   "execution_count": null,
   "metadata": {
    "id": "QB78MokIt8WD"
   },
   "outputs": [],
   "source": [
    "# combine positive and negative labels\n",
    "train_y_torch = torch.cat((torch.ones((len(train_ham), 1)), torch.zeros((len(train_idf), 1))))\n",
    "test_y_torch = torch.cat((torch.ones((len(test_ham), 1)), torch.zeros((len(test_idf), 1))))\n",
    "\n",
    "\n",
    "# collect the features 'x' and stack them into a matrix 'X'\n",
    "x_train = torch.zeros((len(train_x), 3))\n",
    "for i in range(len(train_x)):\n",
    "    x_train[i, :]= utils.extract_features_t(train_x[i], freqs)\n",
    "    \n",
    "x_test = torch.zeros((len(test_x), 3))\n",
    "for i in range(len(test_x)):\n",
    "    x_test[i, :]= utils.extract_features_t(test_x[i], freqs)"
   ]
  },
  {
   "cell_type": "code",
   "execution_count": null,
   "metadata": {
    "colab": {
     "base_uri": "https://localhost:8080/",
     "height": 367
    },
    "id": "nwigeHCNi-ys",
    "outputId": "f4d4135d-df8a-468c-c7e8-87c74f364797"
   },
   "outputs": [],
   "source": [
    "def training_loop(n_epochs, optimizer, model, loss_fn, t_train, t_val,\n",
    "                  t_cl_train, t_cl_val):\n",
    "    for epoch in range(1, n_epochs + 1):\n",
    "        t_p_train = model(t_train)\n",
    "        loss_train = loss_fn(t_p_train, t_cl_train)\n",
    "\n",
    "        t_p_val = model(t_val) # <1>\n",
    "        loss_val = loss_fn(t_p_val, t_cl_val)\n",
    "\n",
    "        optimizer.zero_grad()\n",
    "        loss_train.backward() # <2>\n",
    "        optimizer.step()\n",
    "\n",
    "        if epoch == 1 or epoch % 1000 == 0:\n",
    "            print(f\"Epoch {epoch}, Training loss {loss_train.item():.4f},\"\n",
    "                  f\"Validation loss {loss_val.item():.4f}\")\n",
    "\n",
    "linear_model = nn.Sequential(\n",
    "            nn.Linear(3, 1),\n",
    "            nn.Sigmoid()\n",
    "            )\n",
    "optimizer = optim.SGD(\n",
    "    linear_model.parameters(),\n",
    "    lr=1e-2)\n",
    "\n",
    "loss_fn = nn.BCELoss()\n",
    "\n",
    "training_loop(\n",
    "    n_epochs = 15000,\n",
    "    optimizer = optimizer,\n",
    "    model = linear_model,\n",
    "    loss_fn = loss_fn,\n",
    "    t_train = x_train,\n",
    "    t_val = x_test,\n",
    "    t_cl_train = train_y_torch,\n",
    "    t_cl_val = test_y_torch)"
   ]
  },
  {
   "cell_type": "code",
   "execution_count": null,
   "metadata": {
    "id": "oo206NVJDnm7"
   },
   "outputs": [],
   "source": []
  },
  {
   "cell_type": "code",
   "execution_count": null,
   "metadata": {
    "id": "HcCcrJKpDnkH"
   },
   "outputs": [],
   "source": []
  },
  {
   "cell_type": "code",
   "execution_count": null,
   "metadata": {
    "id": "3VFTDFhXDnhS"
   },
   "outputs": [],
   "source": []
  },
  {
   "cell_type": "code",
   "execution_count": null,
   "metadata": {
    "id": "zTIX_ezLDnep"
   },
   "outputs": [],
   "source": []
  },
  {
   "cell_type": "code",
   "execution_count": null,
   "metadata": {
    "id": "8hnzItZXDnbx"
   },
   "outputs": [],
   "source": []
  },
  {
   "cell_type": "code",
   "execution_count": null,
   "metadata": {
    "id": "khVSaTIiDnZL"
   },
   "outputs": [],
   "source": []
  },
  {
   "cell_type": "code",
   "execution_count": null,
   "metadata": {
    "id": "GklU1wHhDnWX"
   },
   "outputs": [],
   "source": []
  },
  {
   "cell_type": "code",
   "execution_count": null,
   "metadata": {
    "id": "Ozzyl4idDnTO"
   },
   "outputs": [],
   "source": []
  },
  {
   "cell_type": "code",
   "execution_count": null,
   "metadata": {
    "id": "A0Ue8oEeDnP0"
   },
   "outputs": [],
   "source": []
  },
  {
   "cell_type": "code",
   "execution_count": null,
   "metadata": {
    "id": "6EFndCX-DnLN"
   },
   "outputs": [],
   "source": []
  },
  {
   "cell_type": "code",
   "execution_count": null,
   "metadata": {
    "colab": {
     "base_uri": "https://localhost:8080/"
    },
    "id": "zN_5GSHu3uoK",
    "outputId": "ce304847-9503-46a3-d05f-3f7d9c5468f8"
   },
   "outputs": [
    {
     "data": {
      "text/plain": [
       "[['arrest', 493, 26],\n",
       " ['entiti', 716, 0],\n",
       " ['tulkarem', 485, 1],\n",
       " ['settlement', 1022, 1],\n",
       " ['resist', 5592, 7],\n",
       " ['martyr', 4058, 2],\n",
       " ['zionist', 3136, 0],\n",
       " ['allah', 2136, 1],\n",
       " ['🚨', 1731, 0],\n",
       " ['soldier', 1408, 3308],\n",
       " ['hospit', 185, 734],\n",
       " ['fighter', 3886, 896],\n",
       " ['tunnel', 25, 951],\n",
       " ['organ', 152, 997],\n",
       " ['lebanon', 155, 1056],\n",
       " ['terrorist', 74, 5455],\n",
       " ['hezbollah', 120, 931],\n",
       " ['infrastructur', 20, 1122],\n",
       " ['rocket', 431, 901],\n",
       " ['israel', 87, 3018],\n",
       " ['conduct', 33, 929]]"
      ]
     },
     "execution_count": 181,
     "metadata": {},
     "output_type": "execute_result"
    }
   ],
   "source": [
    "#selected 11 most common words from each at random\n",
    "\n",
    "keys = ['arrest','entiti','tulkarem','settlement','resist','martyr','zionist','allah', '🚨', 'soldier',\n",
    "         'hospit','fighter','tunnel','organ','lebanon','terrorist','hezbollah','infrastructur','rocket','israel','conduct']\n",
    "\n",
    "\n",
    "# each element consist of a sublist with this pattern: [<word>, <positive_count>, <negative_count>]\n",
    "data = []\n",
    "\n",
    "# loop through our selected words\n",
    "for word in keys:\n",
    "\n",
    "    # initialize positive and negative counts\n",
    "    ham = 0\n",
    "    idf = 0\n",
    "\n",
    "    # retrieve number of positive counts\n",
    "    if (word, 1) in freqs:\n",
    "        ham = freqs[(word, 1)]\n",
    "\n",
    "    # retrieve number of negative counts\n",
    "    if (word, 0) in freqs:\n",
    "        idf = freqs[(word, 0)]\n",
    "\n",
    "    # append the word counts to the table\n",
    "    data.append([word, ham, idf])\n"
   ]
  },
  {
   "cell_type": "code",
   "execution_count": null,
   "metadata": {
    "colab": {
     "base_uri": "https://localhost:8080/",
     "height": 750
    },
    "id": "jsqHIoJW3ul0",
    "outputId": "ec269068-7cca-4c6b-9195-83a0079c1c6d"
   },
   "outputs": [
    {
     "name": "stderr",
     "output_type": "stream",
     "text": [
      "/usr/local/lib/python3.10/dist-packages/IPython/core/pylabtools.py:151: UserWarning: Glyph 128680 (\\N{POLICE CARS REVOLVING LIGHT}) missing from current font.\n",
      "  fig.canvas.print_figure(bytes_io, **kw)\n"
     ]
    },
    {
     "data": {
      "image/png": "[encoded data removed]",
      "text/plain": [
       "<Figure size 800x800 with 1 Axes>"
      ]
     },
     "metadata": {},
     "output_type": "display_data"
    }
   ],
   "source": [
    "fig, ax = plt.subplots(figsize = (8, 8))\n",
    "\n",
    "# convert positive raw counts to logarithmic scale. we add 1 to avoid log(0)\n",
    "x = np.log([x[1] + 1 for x in data])\n",
    "\n",
    "# do the same for the negative counts\n",
    "y = np.log([x[2] + 1 for x in data])\n",
    "\n",
    "# Plot a dot for each pair of words\n",
    "ax.scatter(x, y)\n",
    "\n",
    "# assign axis labels\n",
    "plt.xlabel(\"Log Hammas count\")\n",
    "plt.ylabel(\"Log IDF count\")\n",
    "\n",
    "# Add the word as the label at the same position as you added the points just before\n",
    "for i in range(0, len(data)):\n",
    "    ax.annotate(data[i][0], (x[i], y[i]), fontsize=12)\n",
    "\n",
    "ax.plot([0, 9], [0, 9], color = 'red') # Plot the red line that divides the 2 areas.\n",
    "plt.show()"
   ]
  },
  {
   "cell_type": "code",
   "execution_count": null,
   "metadata": {
    "id": "hFsXmEW03ujP"
   },
   "outputs": [],
   "source": []
  },
  {
   "cell_type": "code",
   "execution_count": null,
   "metadata": {
    "id": "nKM6crPx3ug4"
   },
   "outputs": [],
   "source": []
  },
  {
   "cell_type": "code",
   "execution_count": null,
   "metadata": {
    "id": "MKtfnc7x3ueD"
   },
   "outputs": [],
   "source": []
  },
  {
   "cell_type": "code",
   "execution_count": null,
   "metadata": {
    "id": "4ffuQQTD3uYZ"
   },
   "outputs": [],
   "source": []
  },
  {
   "cell_type": "code",
   "execution_count": null,
   "metadata": {
    "id": "K6T3oZoL3uPY"
   },
   "outputs": [],
   "source": []
  },
  {
   "cell_type": "markdown",
   "metadata": {
    "id": "YNbTyJnvEWud"
   },
   "source": [
    "This is experimental code maybe for later"
   ]
  },
  {
   "cell_type": "code",
   "execution_count": 122,
   "metadata": {
    "id": "fH88gPg13DeP"
   },
   "outputs": [],
   "source": [
    "from nltk.util import ngrams\n"
   ]
  },
  {
   "cell_type": "code",
   "execution_count": 123,
   "metadata": {
    "id": "SDSNowUQ2p9E"
   },
   "outputs": [
    {
     "ename": "NameError",
     "evalue": "name 'idf_tokens' is not defined",
     "output_type": "error",
     "traceback": [
      "\u001b[0;31m---------------------------------------------------------------------------\u001b[0m",
      "\u001b[0;31mNameError\u001b[0m                                 Traceback (most recent call last)",
      "Cell \u001b[0;32mIn[123], line 1\u001b[0m\n\u001b[0;32m----> 1\u001b[0m bigrams \u001b[38;5;241m=\u001b[39m ngrams(idf_tokens, \u001b[38;5;241m2\u001b[39m)\n\u001b[1;32m      3\u001b[0m pd\u001b[38;5;241m.\u001b[39mSeries(bigrams)\u001b[38;5;241m.\u001b[39mvalue_counts()\n",
      "\u001b[0;31mNameError\u001b[0m: name 'idf_tokens' is not defined"
     ]
    }
   ],
   "source": [
    "bigrams = ngrams(idf_tokens, 2)\n",
    "\n",
    "pd.Series(bigrams).value_counts()"
   ]
  },
  {
   "cell_type": "code",
   "execution_count": 124,
   "metadata": {
    "id": "XlQL6zpIEPTm"
   },
   "outputs": [
    {
     "ename": "NameError",
     "evalue": "name 'idf_tokens' is not defined",
     "output_type": "error",
     "traceback": [
      "\u001b[0;31m---------------------------------------------------------------------------\u001b[0m",
      "\u001b[0;31mNameError\u001b[0m                                 Traceback (most recent call last)",
      "Cell \u001b[0;32mIn[124], line 3\u001b[0m\n\u001b[1;32m      1\u001b[0m words_idf \u001b[38;5;241m=\u001b[39m []\n\u001b[0;32m----> 3\u001b[0m \u001b[38;5;28;01mfor\u001b[39;00m wordList \u001b[38;5;129;01min\u001b[39;00m idf_tokens:\n\u001b[1;32m      4\u001b[0m     words_idf \u001b[38;5;241m+\u001b[39m\u001b[38;5;241m=\u001b[39m wordList\n\u001b[1;32m      6\u001b[0m words_hammas \u001b[38;5;241m=\u001b[39m []\n",
      "\u001b[0;31mNameError\u001b[0m: name 'idf_tokens' is not defined"
     ]
    }
   ],
   "source": [
    "words_idf = []\n",
    "\n",
    "for wordList in idf_tokens:\n",
    "    words_idf += wordList\n",
    "\n",
    "words_hammas = []\n",
    "\n",
    "for wordList in hammas_tokens:\n",
    "    words_hammas += wordList\n",
    "\n",
    "#remove 100 most common words based on Brown corpus\n",
    "fdist = FreqDist(words_idf)\n",
    "mostcommon_idf = fdist.most_common(100)\n",
    "\n",
    "fdist = FreqDist(words_hammas)\n",
    "mostcommon_hammas = fdist.most_common(100)\n",
    "mostcommon_hammas"
   ]
  },
  {
   "cell_type": "code",
   "execution_count": null,
   "metadata": {},
   "outputs": [],
   "source": []
  }
 ],
 "metadata": {
  "colab": {
   "include_colab_link": true,
   "provenance": []
  },
  "kernelspec": {
   "display_name": "Python 3 (ipykernel)",
   "language": "python",
   "name": "python3"
  },
  "language_info": {
   "codemirror_mode": {
    "name": "ipython",
    "version": 3
   },
   "file_extension": ".py",
   "mimetype": "text/x-python",
   "name": "python",
   "nbconvert_exporter": "python",
   "pygments_lexer": "ipython3",
   "version": "3.11.4"
  }
 },
 "nbformat": 4,
 "nbformat_minor": 1
}
