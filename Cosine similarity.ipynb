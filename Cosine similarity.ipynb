{
 "cells": [
  {
   "cell_type": "markdown",
   "id": "4d0dcc0f",
   "metadata": {},
   "source": [
    "# Cosine Using Gensim\n",
    "\n",
    "\n",
    "This notebook will try to accomplish next thing - create an embedding vector for a message in a chat and then find in another chat message with similar meaning by using cosine similarity."
   ]
  },
  {
   "cell_type": "code",
   "execution_count": 2,
   "id": "6609d843",
   "metadata": {},
   "outputs": [],
   "source": [
    "import utils\n",
    "import numpy as np\n",
    "import pandas as pd\n",
    "import nltk\n",
    "import string\n",
    "import gensim\n",
    "import logging\n",
    "\n",
    "from os import getcwd\n",
    "from gensim import corpora\n",
    "from gensim import models\n",
    "from gensim import similarities\n",
    "\n",
    "#logging.basicConfig(format='%(asctime)s : %(levelname)s : %(message)s', level=logging.INFO)"
   ]
  },
  {
   "cell_type": "markdown",
   "id": "7beb68e7",
   "metadata": {},
   "source": [
    "### Loading data \n",
    "\n",
    "From our pandas manupulations"
   ]
  },
  {
   "cell_type": "code",
   "execution_count": 2,
   "id": "ec907544",
   "metadata": {},
   "outputs": [],
   "source": [
    "#Instantiating data to a separate variables\n",
    "idf_text = pd.read_pickle('idf_text')\n",
    "idf_text_list = idf_text.tolist()\n",
    "idf_tokens = pd.read_pickle('idf_tokens')\n",
    "hammas_text = pd.read_pickle('hammas_text')\n",
    "hammas_text_list = hammas_text.tolist()\n",
    "hammas_tokens = pd.read_pickle('hammas_tokens')"
   ]
  },
  {
   "cell_type": "markdown",
   "id": "bb063e71",
   "metadata": {},
   "source": [
    "Using the gensim.corpora.Dictionary class we create dictionary for all  This dictionary defines the vocabulary of all words that our processing knows about."
   ]
  },
  {
   "cell_type": "code",
   "execution_count": 3,
   "id": "b434bb06",
   "metadata": {
    "scrolled": false
   },
   "outputs": [],
   "source": [
    "#Creating a dictionary and a frequency corpus from tokens I got after a preprocessing in pandas.\n",
    "h_dictionary = corpora.Dictionary(hammas_tokens)\n",
    "h_corpus = [h_dictionary.doc2bow(text) for text in hammas_tokens]\n",
    "i_dictionary = corpora.Dictionary(idf_tokens)\n",
    "i_corpus = [i_dictionary.doc2bow(text) for text in idf_tokens]\n",
    "\n",
    "#saving results on disk\n",
    "h_dictionary.save('h_dictionary')\n",
    "i_dictionary.save('i_dictionary')\n",
    "corpora.MmCorpus.serialize('h_corpus',h_corpus) \n",
    "corpora.MmCorpus.serialize('i_corpus',i_corpus) \n",
    "\n",
    "#running TF-IDF model\n",
    "h_tfidf = models.TfidfModel(h_corpus)\n",
    "i_tfidf = models.TfidfModel(i_corpus)\n",
    "h_lsi = models.LsiModel(h_corpus, id2word=h_dictionary, num_topics=2)\n",
    "i_lsi = models.LsiModel(i_corpus, id2word=i_dictionary, num_topics=2)\n"
   ]
  },
  {
   "cell_type": "code",
   "execution_count": 10,
   "id": "47a07213",
   "metadata": {
    "scrolled": true
   },
   "outputs": [],
   "source": [
    "h_dict = corpora.dictionary.Dictionary.load('h_dictionary')"
   ]
  },
  {
   "cell_type": "code",
   "execution_count": 12,
   "id": "b927e292",
   "metadata": {},
   "outputs": [
    {
     "data": {
      "text/plain": [
       "'amplifi'"
      ]
     },
     "execution_count": 12,
     "metadata": {},
     "output_type": "execute_result"
    }
   ],
   "source": [
    "h_dict[0]"
   ]
  },
  {
   "cell_type": "markdown",
   "id": "2f83e71d",
   "metadata": {},
   "source": [
    "I keep reusing the same preprocess function I created earlier to preprocess text I want to query on."
   ]
  },
  {
   "cell_type": "code",
   "execution_count": 14,
   "id": "9229cf6f",
   "metadata": {
    "scrolled": true
   },
   "outputs": [
    {
     "name": "stdout",
     "output_type": "stream",
     "text": [
      "Original text - 7 october lauch attack\n",
      "Processed text - ['7', 'octob', 'lauch', 'attack']\n",
      "Embedding vector - [(0, 0.05136082870771824), (1, 0.030826041360716774)]\n",
      "Original text - 7 october lauch attack\n",
      "Processed text - ['7', 'octob', 'lauch', 'attack']\n",
      "Embedding vector - [(0, 0.052981933711779616), (1, -0.043356627502943515)]\n"
     ]
    }
   ],
   "source": [
    "doc = \"7 october lauch attack\"\n",
    "h_vec_bow = h_dictionary.doc2bow(utils.process_text(doc))\n",
    "h_vec_lsi = h_lsi[h_vec_bow]  # convert the query to LSI space\n",
    "print(f'Original text - {doc}\\nProcessed text - {utils.process_text(doc)}\\nEmbedding vector - {h_vec_lsi}')\n",
    "\n",
    "i_vec_bow = i_dictionary.doc2bow(utils.process_text(doc))\n",
    "i_vec_lsi = i_lsi[i_vec_bow]  # convert the query to LSI space\n",
    "print(f'Original text - {doc}\\nProcessed text - {utils.process_text(doc)}\\nEmbedding vector - {i_vec_lsi}')\n",
    "\n",
    "h_index = similarities.MatrixSimilarity(h_lsi[h_corpus]) \n",
    "i_index = similarities.MatrixSimilarity(i_lsi[i_corpus]) \n",
    "h_sims = h_index[h_vec_lsi]\n",
    "i_sims = i_index[i_vec_lsi]\n",
    "\n",
    "h_sims = sorted(enumerate(h_sims), key=lambda item: -item[1])\n",
    "i_sims = sorted(enumerate(i_sims), key=lambda item: -item[1])"
   ]
  },
  {
   "cell_type": "code",
   "execution_count": 16,
   "id": "86f134b0",
   "metadata": {
    "scrolled": true
   },
   "outputs": [
    {
     "name": "stdout",
     "output_type": "stream",
     "text": [
      "1.0 🚨 An injury of a Palestinian with live fire in the village of Nabi Saleh, west of Ramallah.\n",
      "1.0 Video from Lebanese journalist Ali Shuaib via Al-Manar TV shows a Lebanese farmer defending his land from the zionist occupation that is attempting to build a fence on Lebanese lands.Ali Shuaib eloquently says:  “When raising your voice no longer makes sense…He wanted to speak with his body to the zionist war machine.”The southern Lebanese hero is farmer Ismail Nasser, from the town of Kafr Shuba.\n",
      "1.0 🟢 Ismail Haniyeh, head of the political bureau of Hamas,:March towards the border! Think outside the box! Spread out the equations!The resistance has begun its strategic and thunderous strikes, and it still controls the pace of this battle despite the occupier's brutality, indiscriminate killings, and deliberate striking of homes.These crimes, which the world is also witnessing, reflect once again the nature of this Nazi enemy, this fascist monster, where many of our martyrs, hundreds of them, are children, women, and elderly.This aggression extends to the West Bank, and today there is a massacre in the Nour Shams camp, and then it extends to southern Lebanon, where martyrs from our Lebanese brothers and from our Palestinian people rise, in order to break the will of this people and this resistance.We are following the political movements of the United States and some European officials and their visits to the zionist entity, aiming to continue providing psychological and moral support to this cowardly army and this collapsed society after the strategic blow delivered by the Al-Qassam Brigades with the beginning of the Al-Aqsa flood.It has become clear to all observers, and to us from the start, that the US administration has failed miserably, first in providing international and regional support for the aggression on Gaza, and secondly, in influencing the official Arab position to accept displacement.This Arab position is based on our position as the Palestinian people, clinging to our land and homeland, rejecting displacement and an alternative homeland.We commend this Arab and Islamic position, especially that of Egypt, because of the talk about the people of Gaza wanting to move to Egypt, and later the people of the West Bank wanting to move to Jordan.I call for supporting this position and urge embracing it and remaining steadfast, as we see the breaking of this wave related to the malicious displacement plan.The United States of America has failed to neutralize the arenas and fronts, and we see continuous heating and escalation on the borders of northern Palestine, which confirms that the continuation of aggression and the violation of the blood of our steadfast people in Gaza will explode all the equations and plans, whether at the Palestinian or regional level.We warned everyone that this battle could turn into a regional battle if this aggression, brutality, killing, destruction, and violation of the blood of our people in Gaza continues.The United States of America has failed to continue promoting the “israeli” narratives, lies, deception, and no longer do all these “israeli” and American narratives deceive anyone in all countries of the world and the free people.\n",
      "1.0 🔴 Popular Front for the Liberation of Palestine:A call for the continuation and expansion of the clash and the continuation of popular mobilizations throughout the West Bank.The Popular Front praises the heroic \"Itamar\" operation and affirms its timely and appropriate execution.The Popular Front for the Liberation of Palestine praises the heroic shooting operation near the \"Itamar\" settlement north of the occupied West Bank at dawn today, which resulted in serious injuries to two settlers, confirming that it was carried out at the right time and place.Despite the wide and ongoing aggression, continuous incursions by the occupation soldiers, killings, and arrests, and the strict siege on the cities, villages, and camps of the West Bank, the Front embodies its support and backing of the valiant resistance in the Gaza Strip, which proves again that it is strong and capable of dealing painful strikes to the zionist soldiers and settlers, despite the checkpoints, significant zionist security precautions, and high state of alert.The Front calls upon resistance groups and forces to expand the range of fire and open clashes with the enemy along the geography of the West Bank, to create a permanent preoccupation for the enemy, distracting and depleting them, and in response to the ongoing crimes against our people in the West Bank and Al-Quds.The Front urges the necessity of continuing the momentum of popular support and permanent mass mobilization throughout the regions of the West Bank, which must correspond with the scale of the ongoing genocide in the brave Gaza Strip, and the continuous crimes against our people in the West Bank and Al-Quds, as well as the practices against the prisoner movement, emphasizing that the continuation and expansion of the massive and angry popular movement in the West Bank is an influential and pressing matter on the zionist enemy, bringing an important turn in the Battle of Al-Aqsa Flood.The Front also calls upon our people to make tomorrow, Friday, a day of open clashing with the zionist enemy and the settlers at all contact points, and to move from mosques and churches, especially in Al-Quds, to the main engagement squares with the occupation.The Front reiterates the importance of continuing mobilizations of Arab peoples and the free people of the world, raising their voice loudly to stop the aggression, the ongoing zionist holocaust, and the genocide that is being waged against our people, especially against children, women, and the elderly.The Popular Front for the Liberation of PalestineCentral Media Department9-11-2023\n",
      "1.0 🚨 Prisoners and Ex-Prisoners Affairs Commission: Key Data on Arrest Campaigns Post-October 7th to Date 28/11/2023- The total number of arrests from these campaigns exceeded (3290), with the highest number in Al-Khalil Governorate.- The number of arrests among women reached (125), including those arrested from the territories occupied in 1948.- Children: During October, (145) arrests were recorded by the end of the month, while no data is available for November.- The number of journalist arrests since October 7th is (41), with (29) still detained.- There have been (1661) administrative detention orders since October 7th, including new orders and renewals.- Six detainees were martyred in the prisons post-October 7th: (Omar Draghmeh from Tubas, Arafat Hamdan from Ramallah, Majed Zaqoul from Gaza, a fourth unidentified martyr, Abdul Rahman Mar'ei from Salfit, and Tha'er Abu Asab from Qalqilya).- During the five-day truce, the occupation authorities arrested (168).It is noteworthy that the data related to arrest cases includes those who were kept in detention by the occupation, and those who were later released, and does not include cases of arrest from Gaza.\n",
      "1.0 ⚫ Palestinian Islamic Jihad - West Bank:In the name of Allah, the Most Gracious, the Most MercifulThe Islamic Jihad Movement affirms that the prisoners are constants of the Palestinian cause, and the occupation is exerting all its energy to commit the most heinous methods of continuous killing against our prisoners inside the prisons through assault, beating, and torture without providing any treatment or health care to them.The Islamic Jihad Movement mourns the martyr prisoner Abdulrahman Bassem Al-Bahsh (23 years old) from Nablus, who passed away under torture in the occupation's prison in \"Megiddo,\" detained since May 31, 2022, and sentenced to 35 months in prison... joining the convoy of martyrs of the prisoners' movement who ascended on the path of liberating Palestine and Al-Quds since the beginning of the Al-Aqsa Flood battle.The zionist occupation, in nearly three months, assassinated seven prisoners in prisons in front of all human rights organizations, the Red Cross, and other institutions that did not move a finger in the face of its practices and barbaric criminal attacks.Our fight is ongoing and will not stop. The criminal enemy will once again realize that its crimes will not pass without a response, and the resistance will continue with all strength, determination, and firmness.It is indeed a jihad of victory or martyrdom.Palestinian Islamic Jihad Movement - West BankTuesday, 18 Jumada Al-Akhir 1445 AH corresponding to 2/1/2024\n",
      "0.99999994 Occupation warplanes are not safe over the skies of Gaza! Resistance is mobilizing its anti-aircraft weaponry to respond to the US-funded zionist planes. 🔥\n",
      "0.99999994 🟢 Hamas press conference on the 50th day of the zionist aggression on the Gaza Strip (1/3):The press conference held by Hamas in the Lebanese capital, Beirut, in response to the developments of the Zionist aggression on the Gaza Strip for the 50th consecutive day:Peace be upon you, and God's mercy and blessings,🔻 Salutations to our people in the Gaza Strip of dignity, the patient and steadfast, firmly rooted in their land, united like a solid structure, supporting each other despite the pain and aggression, writing with their blood, perseverance, and sacrifices a glorious and decisive victory for our people and nation.🔻 Salutations to the men of the Martyr Izz El-Din Al-Qassam Brigades and the heroes of the Palestinian resistance, who humiliated the nose of the occupation army and its Nazi government in the dust of Gaza, inflicting heavy losses on the enemy's soldiers over fifty days.🔻 Salutations to the heroes of our people and our revolutionary youth in the occupied West Bank, who carry out heroic operations, clash with the enemy's soldiers, and continue to confuse their army and fascist government.Brothers and sisters,On the second day of the ceasefire and prisoner exchange agreement, we would like to focus on the following:Firstly: The ceasefire and prisoner exchange agreement on its second day:- The humanitarian ceasefire and prisoner exchange agreement would not have been achieved without the steadfastness of our noble people, thwarting the displacement plots, and without the heroism of the resistance that forced the new Nazis to accept its terms.bold- This agreement broke the positions announced by the occupation since the beginning of its aggression regarding the release of its prisoners by force, as it will not release anyone from its prisoners except through negotiation with our resistance and paying the necessary prices.- The scenes of our people in the Gaza Strip insisting on returning to their towns and homes destroyed by the occupation are an extension of the epic of steadfastness created by this people, nullifying and thwarting all plans targeting their displacement from their land.- Forcing the occupation to release 150 women and children from among our people in its prisons is the result of the steadfastness, sacrifices, and blood of our great people in the Gaza Strip. It is the fruit of the heroism of the victorious Al-Qassam Brigades and our brave resistance. It is a step on the path to our decision in emptying the prisons and liberating all our free male prisoners and our noble female prisoners.- The blood, pain, and suffering that affected our people in the Gaza Strip affected our people everywhere. Our blood is one and our pain is one, as well and our joy is one with the release of our prisoners, from women and children whose chants for the resistance and its commander-in-chief, the fighting brother Mohammad Deif, are a true expression of the mass support for the resistance, and a popular referendum on our people's choice of the resistance project as a path to liberate the land and the sanctities.🔻 Al-Aqsa Flood inflicted a strategic defeat on the occupation, psychologically, militarily, and intelligence-wise, and our victorious Brigades and all our resistance factions will remain the protective shield and the defender of our people until the chapters of this defeat are completed by expelling the occupation and aggression, soon by Allah's will.🔻 We affirm our commitment to implementing and making the agreement successful, sponsored by Qatar and Egypt, appreciatively and thankfully, as long as the enemy is committed to implementing it.\n",
      "0.9999999 🚨 Officers of the traitorous Palestinian Authority are assaulting Palestinians in Tulkarem refugee camp after one of their officers was wounded while pursuing another Palestinian. The PA is currently sending reinforcements to the camp.\n",
      "0.9999999 🇾🇪 Yemeni Armed Forces:The American-British aerial aggression launched 48 airstrikes over the past hours distributed as follows:- 13 airstrikes on the capital's secretariat and Sana'a governate.- 9 airstrikes on Al-Hodeidah governate.- 11 airstrikes on governate.- 7 airstrikes on Al-Bayda governate.- 7 airstrikes on Hajjah governate.These aggressions will not deter us from our moral, religious, and humanitarian stance supporting the steadfast Palestinian people in the Gaza Strip and will not go unanswered or unpunished.\n"
     ]
    }
   ],
   "source": [
    "for doc_position, doc_score in h_sims[:10]:\n",
    "    print(doc_score, hammas_text.tolist()[doc_position])\n"
   ]
  },
  {
   "cell_type": "code",
   "execution_count": 17,
   "id": "9ceeca11",
   "metadata": {},
   "outputs": [
    {
     "name": "stdout",
     "output_type": "stream",
     "text": [
      "0.99999946 IDF: A short while ago, Israeli civilians burned vehicles and possessions belonging to Palestinians in the town of Turmus Aya.Security forces entered the town in order to extinguish the fires, prevent clashes and to collect evidence. The Israeli civilians exited the town and the Israel Police has opened an investigation into the event.The IDF condemns these serious incidents of violence and destruction of property. Such events prevent the IDF and security forces from focusing on their main mission  maintaining the security of the State of Israel and preventing terrorism.\n",
      "0.9999989 IDF: IDF, ISA and Israel Police forces conducted counterterrorism activities in Judea and SamariaOvernight, IDF, ISA and Israel Border Police forces conducted counterterrorism activities in order to apprehend Islamic Jihad terrorist operatives in a number of locations in Judea and Samaria, including the towns of Bayt Sira and in the Qalandiya camp.In the town of Idhna and in the city of Hebron, six Islamic Jihad terror operatives were apprehended.In the towns of Beit Ummar and Surif, IDF soldiers apprehended two Islamic Jihad terror operatives.In the towns of Nur Shams, Bir al Basha, Sanur, and Ro'i, IDF soldiers apprehended four Islamic Jihad terror operatives.As of now, 20 suspects were apprehended in Judea and Samaria and 19 of them are Islamic Jihad terrorist operatives. The suspects have been transferred to security forces for further processing. No IDF injuries have been reported. The soldiers’ activity in the Judea and Samaria area against the Islamic Jihad terrorist organization are continuing. Details to follow.Attached photos from the activity: link\n",
      "0.9999989 IDF: Earlier today (Monday), IDF soldiers apprehended an armed assailant in the city of Jenin. The assailant was located in his vehicle adjacent to the location of the Israeli security forces in the city of Jenin. The assailant was spotted sleeping inside the vehicle, carrying a loaded M16 rifle along with additional military equipment.The soldiers apprehended the assailant and confiscated the weapons.Attached are photos of the weapons carried by the assailant: link\n",
      "0.9999985 IDF: IDF and Israel Police forces thwarted a weapon smuggling attempt adjacent to the Dead Sea:Yesterday (Tuesday), IDF observation soldiers spotted four suspects attempting to smuggle weapons adjacent to the Dead Sea. IDF soldiers and Israel Police “Magen” Unit Forces were dispatched to the scene and confiscated three M16 assault rifles and three handguns worth approximately 400,000 shekels. Security forces will continue in the ongoing effort to thwart smugglings and to ensure the security of the State of Israel. Attached are related photos: link is a related video: link\n",
      "0.9999972 IDF: A short while ago, terrorists hurled an explosive device at an Israeli vehicle adjacent to the town of Burka. Security forces were dispatched to the scene and provided initial medical treatment to an Israeli civilian who was injured.The forces are searching the area for suspects.\n",
      "0.9999931 IDF: Yesterday (Tuesday), shots were fired at IDF soldiers at a military post at the entrance to the community of Homesh. Earlier today, a wanted individual suspected of carrying out the shooting turned himself in to Israeli security forces.\n",
      "0.9999926 IDF: A short while ago, a report was received regarding a suspicious object located on a bus in the community of Betar Illit.  Israel Police's Explosive Ordnance Disposal (EOD) personnel were dispatched to the scene and neutralized the threat. Sirens sounded in the community and security forces are searching the area for suspects.\n",
      "0.99999183 IDF: Overnight (Sunday), a number of armed gunmen opened fire toward IDF soldiers at a military post adjacent to the Jit Junction.IDF soldiers who conducted routine activity in the area responded with live fire toward the armed gunmen. Three armed gunmen were neutralized during the exchange of fire and an additional armed gunman surrendered himself to the forces and was apprehended.The soldiers confiscated three M16 rifles, a handgun and magazines used by the assailants.The suspect was transferred to security forces for further questioning.No IDF injuries were reported.Attached is a photo of the confiscated weapons: link\n",
      "0.99999166 IDF: IDF soldiers thwarted a weapon smuggling attempt from the Lebanese borderOvernight, IDF soldiers spotted a weapon smuggling attempt from Lebanon into Israeli territory adjacent the town of Arab alAramshe. IDF and Israel Police forces were dispatched to the scene, apprehended a suspect and confiscated four handguns and a number of magazines worth about 150,000 NIS.The suspect and weapons were transferred to the Israel Police for further processing. Attached is a photo of the confiscated weapons: link is a video of the smuggling attempt: link\n",
      "0.9999861 IDF: IDF soldiers thwarted a drug smuggling attempt worth 1,650,000 NISA short while ago, IDF soldiers spotted a number of suspects attempting to smuggle drugs from the Paran Regional Brigade into Israeli territory.IDF soldiers were dispatched to the scene and thwarted the drug smuggling attempt and confiscated 40 kg of drugs worth 1,650,000 NIS. The confiscated drugs were transferred to the Israel Police for further processing.Attached is a photo of the drugs: link\n"
     ]
    }
   ],
   "source": [
    "for doc_position, doc_score in i_sims[:10]:\n",
    "    print(doc_score, idf_text.tolist()[doc_position])\n"
   ]
  }
 ],
 "metadata": {
  "kernelspec": {
   "display_name": "Python 3 (ipykernel)",
   "language": "python",
   "name": "python3"
  },
  "language_info": {
   "codemirror_mode": {
    "name": "ipython",
    "version": 3
   },
   "file_extension": ".py",
   "mimetype": "text/x-python",
   "name": "python",
   "nbconvert_exporter": "python",
   "pygments_lexer": "ipython3",
   "version": "3.11.4"
  }
 },
 "nbformat": 4,
 "nbformat_minor": 5
}
