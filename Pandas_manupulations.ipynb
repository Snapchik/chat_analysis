{
 "cells": [
  {
   "cell_type": "markdown",
   "metadata": {
    "colab_type": "text",
    "id": "view-in-github"
   },
   "source": [
    "<a href=\"https://colab.research.google.com/github/Snapchik/chat_analysis/blob/main/Chats_copmparisson.ipynb\" target=\"_parent\"><img src=\"https://colab.research.google.com/assets/colab-badge.svg\" alt=\"Open In Colab\"/></a>"
   ]
  },
  {
   "cell_type": "code",
   "execution_count": 1,
   "metadata": {
    "id": "ZPFxGimGvMJk"
   },
   "outputs": [],
   "source": [
    "import pandas as pd\n",
    "import numpy as np\n",
    "import nltk\n",
    "import string\n",
    "import utils\n",
    "\n",
    "from nltk.corpus import stopwords          # module for stop words that come with NLTK\n",
    "from nltk.stem import PorterStemmer        # module for stemming"
   ]
  },
  {
   "cell_type": "code",
   "execution_count": 2,
   "metadata": {
    "colab": {
     "base_uri": "https://localhost:8080/"
    },
    "id": "1BRURrcUvUb4",
    "outputId": "f8f002fe-35fb-478d-f2de-45007aca4493",
    "scrolled": true
   },
   "outputs": [],
   "source": [
    "# from google.colab import drive\n",
    "# drive.mount('/content/drive')"
   ]
  },
  {
   "cell_type": "code",
   "execution_count": 3,
   "metadata": {
    "id": "pTWLwDUM0qG6"
   },
   "outputs": [
    {
     "name": "stderr",
     "output_type": "stream",
     "text": [
      "/Users/timurburhanov/Projects/GitHub/chat_analysis/utils.py:31: FutureWarning: Series.__getitem__ treating keys as positions is deprecated. In a future version, integer keys will always be treated as labels (consistent with DataFrame behavior). To access a value by position, use `ser.iloc[pos]`\n",
      "  for i in row[1]:\n"
     ]
    }
   ],
   "source": [
    "# For Colab usage\n",
    "# hammas_chat = pd.read_json('/content/drive/My Drive/Colab Notebooks/result.json')\n",
    "\n",
    "stopwords_english = stopwords.words('english')\n",
    "stemmer = PorterStemmer()\n",
    "\n",
    "hammas_chat = pd.read_json('Chats_exports/H.json')\n",
    "\n",
    "# extracts date and text from a dictionary under similar key\n",
    "hammas_norm = pd.json_normalize(hammas_chat['messages'])\n",
    "\n",
    "hammas_norm_drop = hammas_norm.drop(columns=[\n",
    "       'id', 'type','date_unixtime', 'actor', 'actor_id', 'action',\n",
    "       'title', 'edited', 'edited_unixtime', 'from',\n",
    "       'from_id', 'message_id', 'file', 'thumbnail', 'media_type', 'mime_type',\n",
    "       'duration_seconds', 'width', 'height', 'photo', 'reply_to_message_id',\n",
    "       'forwarded_from', 'performer', 'poll.question', 'poll.closed',\n",
    "       'poll.total_voters', 'poll.answers','text_entities'\n",
    "       ])\n",
    "hammas_norm_drop = hammas_norm_drop.replace('', np.nan).dropna(subset = ['text'])\n",
    "hammas_norm_drop['date']= pd.to_datetime(hammas_norm_drop['date'])\n",
    "\n",
    "#extracting hashtags\n",
    "hammas_norm_drop['hashtags'] = hammas_norm_drop['text'].apply(utils.extract_hashtags)\n",
    "\n",
    "# apply the function to all rows\n",
    "hammas_norm_drop['extracted_text'] = hammas_norm_drop.apply(utils.extract_text, axis=1)\n",
    "\n",
    "#Some preprocessing steps that I found necessary for telegram chat\n",
    "\n",
    "#clearing out some common misspellings and hyperlink\n",
    "hammas_norm_drop['extracted_text'] = hammas_norm_drop['extracted_text'].str.replace('\\n', '')\n",
    "hammas_norm_drop['extracted_text'] = hammas_norm_drop['extracted_text'].str.replace('text_link', '')\n",
    "hammas_norm_drop['extracted_text'] = hammas_norm_drop['extracted_text'].str.replace(r'https?://[^\\s\\n\\r]+', '', regex=True)\n",
    "hammas_norm_drop['extracted_text'] = hammas_norm_drop['extracted_text'].str.replace(r'bold\\B', '', regex=True)\n",
    "hammas_norm_drop['extracted_text'] = hammas_norm_drop['extracted_text'].str.replace(r'#', '',regex=True)\n",
    "hammas_norm_drop['extracted_text'] = hammas_norm_drop['extracted_text'].str.replace('hashtag', '')\n",
    "hammas_norm_drop['extracted_text'] = hammas_norm_drop['extracted_text'].str.replace('italic', '')\n",
    "hammas_norm_drop['extracted_text'] = hammas_norm_drop['extracted_text'].str.replace('_', '')\n",
    "hammas_norm_drop['extracted_text'] = hammas_norm_drop['extracted_text'].str.replace('—', '')\n",
    "\n",
    "\n",
    "hammas_norm_drop['messages_token'] = hammas_norm_drop[\"extracted_text\"].str.lower().apply(nltk.word_tokenize)\n",
    "\n",
    "\n",
    "hammas_norm_drop['tokens_without_stopwords'] = hammas_norm_drop['messages_token'].apply(lambda x:\n",
    "     [word for word in x if word not in (stopwords_english) and word not in string.punctuation])\n",
    "\n",
    "hammas_norm_drop['stemmed_tokens_wt_stopwords_punctuation'] = hammas_norm_drop['tokens_without_stopwords'].apply(lambda x: [stemmer.stem(word) for word in x])"
   ]
  },
  {
   "cell_type": "code",
   "execution_count": 4,
   "metadata": {
    "id": "8cqeQDwA0sf3"
   },
   "outputs": [
    {
     "name": "stderr",
     "output_type": "stream",
     "text": [
      "/Users/timurburhanov/Projects/GitHub/chat_analysis/utils.py:31: FutureWarning: Series.__getitem__ treating keys as positions is deprecated. In a future version, integer keys will always be treated as labels (consistent with DataFrame behavior). To access a value by position, use `ser.iloc[pos]`\n",
      "  for i in row[1]:\n"
     ]
    }
   ],
   "source": [
    "# For Colab usage\n",
    "# IDF_chat = pd.read_json('/content/drive/My Drive/Colab Notebooks/IDF.json')\n",
    "\n",
    "\n",
    "IDF_chat = pd.read_json('Chats_exports/IDF.json')\n",
    "\n",
    "# extracts date and text from a dictionary under similar key\n",
    "IDF_norm = pd.json_normalize(IDF_chat['messages'])\n",
    "\n",
    "IDF_norm_drop = IDF_norm.drop(columns=['id', 'type','date_unixtime', 'actor', 'actor_id', 'action',\n",
    "       'title', 'edited', 'edited_unixtime', 'from',\n",
    "       'from_id', 'file', 'thumbnail', 'media_type', 'mime_type',\n",
    "       'duration_seconds', 'width', 'height', 'photo', 'reply_to_message_id',\n",
    "       'text_entities', 'duration', 'file_name'])\n",
    "IDF_norm_drop = IDF_norm_drop.replace('', np.nan).dropna(subset = ['text'])\n",
    "IDF_norm_drop['date']= pd.to_datetime(IDF_norm_drop['date'])\n",
    "\n",
    "# apply the function to all rows\n",
    "IDF_norm_drop['extracted_text'] = IDF_norm_drop.apply(utils.extract_text, axis=1)\n",
    "\n",
    "#Big preprocessing steps\n",
    "\n",
    "#clearing out some common misspellings and hyperlink\n",
    "IDF_norm_drop['extracted_text'] = IDF_norm_drop['extracted_text'].str.replace('\\n', '')\n",
    "IDF_norm_drop['extracted_text'] = IDF_norm_drop['extracted_text'].str.replace('text_link', '')\n",
    "IDF_norm_drop['extracted_text'] = IDF_norm_drop['extracted_text'].str.replace(r'https?://[^\\s\\n\\r]+', '', regex=True)\n",
    "IDF_norm_drop['extracted_text'] = IDF_norm_drop['extracted_text'].str.replace(r'bold\\B', '', regex=True)\n",
    "IDF_norm_drop['extracted_text'] = IDF_norm_drop['extracted_text'].str.replace(r'#', '',regex=True)\n",
    "IDF_norm_drop['extracted_text'] = IDF_norm_drop['extracted_text'].str.replace('hashtag', '')\n",
    "IDF_norm_drop['extracted_text'] = IDF_norm_drop['extracted_text'].str.replace('italic', '')\n",
    "IDF_norm_drop['extracted_text'] = IDF_norm_drop['extracted_text'].str.replace('_', '')\n",
    "IDF_norm_drop['extracted_text'] = IDF_norm_drop['extracted_text'].str.replace('—', '')\n",
    "IDF_norm_drop['extracted_text'] = IDF_norm_drop['extracted_text'].str.replace('-', '')\n",
    "\n",
    "\n",
    "#applying tokenizer\n",
    "IDF_norm_drop['messages_token'] = IDF_norm_drop[\"extracted_text\"].str.lower().apply(nltk.word_tokenize)\n",
    "\n",
    "\n",
    "IDF_norm_drop['tokens_without_stopwords'] = IDF_norm_drop['messages_token'].apply(\n",
    "     lambda x: [word for word in x if word not in stopwords_english and word not in string.punctuation])\n",
    "\n",
    "\n",
    "IDF_norm_drop['stemmed_tokens_wt_stopwords_punctuation'] = IDF_norm_drop['tokens_without_stopwords'].apply(lambda x: [stemmer.stem(word) for word in x])"
   ]
  },
  {
   "cell_type": "code",
   "execution_count": 7,
   "metadata": {},
   "outputs": [],
   "source": [
    "IDF_norm_drop['extracted_text'].to_pickle('idf_text')\n",
    "hammas_norm_drop['extracted_text'].to_pickle('hammas_text')\n",
    "\n",
    "IDF_norm_drop['stemmed_tokens_wt_stopwords_punctuation'].to_pickle('idf_tokens')\n",
    "hammas_norm_drop['stemmed_tokens_wt_stopwords_punctuation'].to_pickle('hammas_tokens')"
   ]
  },
  {
   "cell_type": "code",
   "execution_count": null,
   "metadata": {},
   "outputs": [],
   "source": []
  }
 ],
 "metadata": {
  "colab": {
   "include_colab_link": true,
   "provenance": []
  },
  "kernelspec": {
   "display_name": "Python 3 (ipykernel)",
   "language": "python",
   "name": "python3"
  },
  "language_info": {
   "codemirror_mode": {
    "name": "ipython",
    "version": 3
   },
   "file_extension": ".py",
   "mimetype": "text/x-python",
   "name": "python",
   "nbconvert_exporter": "python",
   "pygments_lexer": "ipython3",
   "version": "3.11.4"
  }
 },
 "nbformat": 4,
 "nbformat_minor": 1
}
