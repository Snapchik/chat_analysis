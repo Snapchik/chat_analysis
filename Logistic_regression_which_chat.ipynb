{
 "cells": [
  {
   "cell_type": "code",
   "execution_count": null,
   "metadata": {
    "id": "ZPFxGimGvMJk"
   },
   "outputs": [],
   "source": [
    "import pandas as pd\n",
    "import numpy as np\n",
    "import matplotlib.pyplot as plt\n",
    "import nltk\n",
    "import string\n",
    "\n",
    "import torch\n",
    "import torch.optim as optim\n",
    "import torch.nn as nn\n",
    "\n",
    "import utils\n",
    "\n",
    "from nltk.probability import FreqDist      # module for counting word frequency\n",
    "from nltk.util import ngrams\n"
   ]
  },
  {
   "cell_type": "code",
   "execution_count": 10,
   "metadata": {
    "id": "mfnazurfDx4p"
   },
   "outputs": [],
   "source": [
    "#Instantiating data to a separate variables\n",
    "\n",
    "idf_text = pd.read_pickle('idf_text')\n",
    "idf_text_list = idf_text.tolist()\n",
    "hammas_text = pd.read_pickle('hammas_text')\n",
    "hammas_text_list = hammas_text.tolist()\n",
    "\n",
    "#idf_tokens = idf_tokens.apply(lambda x: ', '.join(x))\n",
    "#hammas_tokens = hammas_tokens.apply(lambda x: ', '.join(x))\n",
    "all_text = hammas_text + idf_text\n",
    "\n",
    "# split the data into two pieces, one for training and one for testing (validation set)\n",
    "#I have around 8000 messages in total\n",
    "test_ham = hammas_text_list[6000:]\n",
    "train_ham = hammas_text_list[:6000]\n",
    "\n",
    "test_idf = idf_text_list[6000:]\n",
    "train_idf = idf_text_list[:6000]\n",
    "\n",
    "\n",
    "train_x = train_ham + train_idf\n",
    "test_x = test_ham + test_idf"
   ]
  },
  {
   "cell_type": "code",
   "execution_count": 11,
   "metadata": {
    "colab": {
     "base_uri": "https://localhost:8080/"
    },
    "id": "R9K74XfuFE6a",
    "outputId": "4f28f5fa-b739-4c1b-a938-3b31184cdb0a",
    "scrolled": true
   },
   "outputs": [
    {
     "name": "stdout",
     "output_type": "stream",
     "text": [
      "train_y.shape = (12000, 1)\n",
      "test_y.shape = (4452, 1)\n",
      "type(freqs) = <class 'dict'>\n",
      "len(freqs) = 22093\n"
     ]
    },
    {
     "name": "stderr",
     "output_type": "stream",
     "text": [
      "/Users/timurburhanov/Projects/GitHub/chat_analysis/utils.py:140: RuntimeWarning: divide by zero encountered in log\n",
      "  J = - (1/m) * (np.dot(y.T, np.log(h)) + np.dot((1 - y.T), np.log(1 - h)))\n"
     ]
    },
    {
     "name": "stdout",
     "output_type": "stream",
     "text": [
      "The cost after training is nan.\n",
      "The resulting vector of weights is [2.1e-07, 0.00065654, -0.00046772]\n"
     ]
    }
   ],
   "source": [
    "# combine positive and negative labels\n",
    "train_y = np.append(np.ones((len(train_ham), 1)), np.zeros((len(train_idf), 1)), axis=0)\n",
    "test_y = np.append(np.ones((len(test_ham), 1)), np.zeros((len(test_idf), 1)), axis=0)\n",
    "\n",
    "# Print the shape train and test sets\n",
    "print(\"train_y.shape = \" + str(train_y.shape))\n",
    "print(\"test_y.shape = \" + str(test_y.shape))\n",
    "\n",
    "# create frequency dictionary\n",
    "freqs = utils.build_freqs(train_x, train_y)\n",
    "\n",
    "# check the output\n",
    "print(\"type(freqs) = \" + str(type(freqs)))\n",
    "print(\"len(freqs) = \" + str(len(freqs.keys())))\n",
    "\n",
    "\n",
    "# collect the features 'x' and stack them into a matrix 'X'\n",
    "X = np.zeros((len(train_x), 3))\n",
    "for i in range(len(train_x)):\n",
    "    X[i, :]= utils.extract_features(train_x[i], freqs)\n",
    "\n",
    "# training labels corresponding to X\n",
    "Y = train_y\n",
    "\n",
    "# Apply gradient descent\n",
    "J, theta = utils.gradientDescent(X, Y, np.zeros((3, 1)), 1e-9, 15000)\n",
    "print(f\"The cost after training is {J:.8f}.\")\n",
    "print(f\"The resulting vector of weights is {[round(t, 8) for t in np.squeeze(theta)]}\")\n"
   ]
  },
  {
   "cell_type": "code",
   "execution_count": 38,
   "metadata": {},
   "outputs": [],
   "source": [
    "theta = [0.1572,  0.2531, -0.1533]"
   ]
  },
  {
   "cell_type": "code",
   "execution_count": 69,
   "metadata": {
    "colab": {
     "base_uri": "https://localhost:8080/"
    },
    "id": "LW3VXRsfs9Y1",
    "outputId": "def91845-6502-44e8-ab64-113dfa4cdfd3"
   },
   "outputs": [
    {
     "name": "stdout",
     "output_type": "stream",
     "text": [
      "Popular Front for the Liberation of Palestine:\n",
      "—\n",
      "Tulkarem continues to display the most splendid epics of heroism and sacrifice. \n",
      "\n",
      "The Popular Front mourns the martyrs of Tulkarem (https://t.me/PalestineResist/47112) and affirms that the resistance will remain a thorn in the throat of the criminal zionist enemy. \n",
      "\n",
      "The Popular Front for the Liberation of Palestine mourns a new group of heroic resistance fighters who were martyred yesterday evening, Tuesday, in a cowardly zionist bombing carried out by a drone, (https://t.me/PalestineResist/47090) targeting them in the middle of the brave Nour Shams camp east of the occupied city of Tulkarem.\n",
      "\n",
      "This new zionist crime adds to the record of brutal crimes committed by the zionist entity against our steadfast people. -> 1.000000\n"
     ]
    },
    {
     "name": "stderr",
     "output_type": "stream",
     "text": [
      "/var/folders/hl/d5jnxqdx1tlglj_yhvqpcnsh0000gn/T/ipykernel_68505/1311148967.py:10: DeprecationWarning: Conversion of an array with ndim > 0 to a scalar is deprecated, and will error in future. Ensure you extract a single element from your array before performing this operation. (Deprecated NumPy 1.25.)\n",
      "  print( '%s -> %f' % (text, utils.predict_text(text, freqs, theta)))\n"
     ]
    }
   ],
   "source": [
    "for text in ['''Popular Front for the Liberation of Palestine:\n",
    "—\n",
    "Tulkarem continues to display the most splendid epics of heroism and sacrifice. \n",
    "\n",
    "The Popular Front mourns the martyrs of Tulkarem (https://t.me/PalestineResist/47112) and affirms that the resistance will remain a thorn in the throat of the criminal zionist enemy. \n",
    "\n",
    "The Popular Front for the Liberation of Palestine mourns a new group of heroic resistance fighters who were martyred yesterday evening, Tuesday, in a cowardly zionist bombing carried out by a drone, (https://t.me/PalestineResist/47090) targeting them in the middle of the brave Nour Shams camp east of the occupied city of Tulkarem.\n",
    "\n",
    "This new zionist crime adds to the record of brutal crimes committed by the zionist entity against our steadfast people.''']:\n",
    "  print( '%s -> %f' % (text, utils.predict_text(text, freqs, theta)))"
   ]
  },
  {
   "cell_type": "code",
   "execution_count": 8,
   "metadata": {
    "colab": {
     "base_uri": "https://localhost:8080/"
    },
    "id": "uX4BOigts9V-",
    "outputId": "676e8835-5f63-489d-8172-7d528e8963e7"
   },
   "outputs": [
    {
     "name": "stdout",
     "output_type": "stream",
     "text": [
      "Label Predicted Tweet\n",
      "THE TWEET IS: 🚨 BREAKING: After over an hour of fragile silence, missile sirens ring in the settlement of “Nir Am.” Preliminary reports indicate that missiles were launched from Gaza.\n",
      "THE PROCESSED TWEET IS: ['🚨', 'break', 'after', 'hour', 'fragil', 'silenc', 'missil', 'siren', 'ring', 'settlement', '“', 'nir', 'am.', '”', 'preliminari', 'report', 'indic', 'missil', 'launch', 'gaza']\n",
      "1\t0.09849736\tb' break after hour fragil silenc missil siren ring settlement  nir am.  preliminari report indic missil launch gaza'\n",
      "THE TWEET IS: Five injuries have been reported by the ministry of health in Gaza following the IOF bombing of the Strip yesterday.\n",
      "THE PROCESSED TWEET IS: ['five', 'injuri', 'report', 'ministri', 'health', 'gaza', 'follow', 'iof', 'bomb', 'strip', 'yesterday']\n",
      "1\t0.03946015\tb'five injuri report ministri health gaza follow iof bomb strip yesterday'\n"
     ]
    },
    {
     "name": "stderr",
     "output_type": "stream",
     "text": [
      "/var/folders/hl/d5jnxqdx1tlglj_yhvqpcnsh0000gn/T/ipykernel_68505/3859812774.py:9: DeprecationWarning: Conversion of an array with ndim > 0 to a scalar is deprecated, and will error in future. Ensure you extract a single element from your array before performing this operation. (Deprecated NumPy 1.25.)\n",
      "  print('%d\\t%0.8f\\t%s' % (y, y_hat, ' '.join(utils.process_text(x)).encode('ascii', 'ignore')))\n"
     ]
    },
    {
     "name": "stdout",
     "output_type": "stream",
     "text": [
      "THE TWEET IS: 🚨 A new round of raids by US-funded IOF warplanes bombs targets in the western Gaza Strip and Gaza City.\n",
      "THE PROCESSED TWEET IS: ['🚨', 'a', 'new', 'round', 'raid', 'us-fund', 'iof', 'warplan', 'bomb', 'target', 'western', 'gaza', 'strip', 'gaza', 'citi']\n",
      "1\t0.38769651\tb' a new round raid us-fund iof warplan bomb target western gaza strip gaza citi'\n",
      "THE TWEET IS: 🚨 Explosions are reported in Khan Yunis, Gaza Strip, after the zionist forces launched strikes on the city. Details are emerging.\n",
      "THE PROCESSED TWEET IS: ['🚨', 'explos', 'report', 'khan', 'yuni', 'gaza', 'strip', 'zionist', 'forc', 'launch', 'strike', 'citi', 'detail', 'emerg']\n",
      "1\t0.09021382\tb' explos report khan yuni gaza strip zionist forc launch strike citi detail emerg'\n",
      "THE TWEET IS: 🚨 US-funded IOF warplanes are now bombing various areas in the Gaza Strip.\n",
      "THE PROCESSED TWEET IS: ['🚨', 'us-fund', 'iof', 'warplan', 'bomb', 'variou', 'area', 'gaza', 'strip']\n",
      "1\t0.21518725\tb' us-fund iof warplan bomb variou area gaza strip'\n",
      "THE TWEET IS: 🚨 IOF aggression continues in various areas on the Gaza Strip.\n",
      "THE PROCESSED TWEET IS: ['🚨', 'iof', 'aggress', 'continu', 'variou', 'area', 'gaza', 'strip']\n",
      "1\t0.24718334\tb' iof aggress continu variou area gaza strip'\n",
      "THE TWEET IS: 🚨 After targeting Rafah in the south of Gaza, the IOF is now bombing sites in the north. A number of serious injuries arrived at a Gaza hospital following the Rafah bombing.\n",
      "THE PROCESSED TWEET IS: ['🚨', 'after', 'target', 'rafah', 'south', 'gaza', 'iof', 'bomb', 'site', 'north', 'a', 'number', 'seriou', 'injuri', 'arriv', 'gaza', 'hospit', 'follow', 'rafah', 'bomb']\n",
      "1\t0.46877139\tb' after target rafah south gaza iof bomb site north a number seriou injuri arriv gaza hospit follow rafah bomb'\n",
      "THE TWEET IS: Over 300 rockets were launched from Gaza in the last three hours.\n",
      "THE PROCESSED TWEET IS: ['over', '300', 'rocket', 'launch', 'gaza', 'last', 'three', 'hour']\n",
      "1\t0.20184729\tb'over 300 rocket launch gaza last three hour'\n",
      "THE TWEET IS: bold🚨 IOF warplanes are launching attacks on sites in northern Gaza.\n",
      "THE PROCESSED TWEET IS: ['bold🚨', 'iof', 'warplan', 'launch', 'attack', 'site', 'northern', 'gaza']\n",
      "1\t0.40207820\tb'bold iof warplan launch attack site northern gaza'\n",
      "THE TWEET IS: Local sources report that an “israeli” drone fired two missiles towards a house in the town of Qarara, east of Khan Younis in Gaza.\n",
      "THE PROCESSED TWEET IS: ['local', 'sourc', 'report', '“', 'isra', '”', 'drone', 'fire', 'two', 'missil', 'toward', 'hous', 'town', 'qarara', 'east', 'khan', 'youni', 'gaza']\n",
      "1\t0.06034454\tb'local sourc report  isra  drone fire two missil toward hous town qarara east khan youni gaza'\n",
      "THE TWEET IS: A warehouse in occupied Asqalan was significantly damaged after it was hit by a rocket fired from Gaza.\n",
      "THE PROCESSED TWEET IS: ['a', 'warehous', 'occupi', 'asqalan', 'significantli', 'damag', 'hit', 'rocket', 'fire', 'gaza']\n",
      "1\t0.34524069\tb'a warehous occupi asqalan significantli damag hit rocket fire gaza'\n",
      "THE TWEET IS: 🚨 Occupation forces struck without warning a residential apartment building north of Khan Yunis in the Gaza Strip using a suicide drone. Multiple wounded are reported.\n",
      "THE PROCESSED TWEET IS: ['🚨', 'occup', 'forc', 'struck', 'without', 'warn', 'residenti', 'apart', 'build', 'north', 'khan', 'yuni', 'gaza', 'strip', 'use', 'suicid', 'drone', 'multipl', 'wound', 'report']\n",
      "1\t0.23463341\tb' occup forc struck without warn residenti apart build north khan yuni gaza strip use suicid drone multipl wound report'\n",
      "THE TWEET IS: 🚨🚀 Missile sirens ring in various settlements to the east of the Gaza Strip as the resistance fires a barrage of rockets.\n",
      "THE PROCESSED TWEET IS: ['🚨🚀', 'missil', 'siren', 'ring', 'variou', 'settlement', 'east', 'gaza', 'strip', 'resist', 'fire', 'barrag', 'rocket']\n",
      "1\t0.41128311\tb' missil siren ring variou settlement east gaza strip resist fire barrag rocket'\n",
      "THE TWEET IS: Occupation warplanes are striking targets east of Rafah in the Gaza Strip.\n",
      "THE PROCESSED TWEET IS: ['occup', 'warplan', 'strike', 'target', 'east', 'rafah', 'gaza', 'strip']\n",
      "1\t0.41486693\tb'occup warplan strike target east rafah gaza strip'\n",
      "THE TWEET IS: 🚨 IOF warplanes are bombing an empty agricultural field in northern Gaza and a site in Rafah, southern Gaza.\n",
      "THE PROCESSED TWEET IS: ['🚨', 'iof', 'warplan', 'bomb', 'empti', 'agricultur', 'field', 'northern', 'gaza', 'site', 'rafah', 'southern', 'gaza']\n",
      "1\t0.46434484\tb' iof warplan bomb empti agricultur field northern gaza site rafah southern gaza'\n",
      "THE TWEET IS: 🚨 IOF warplanes are launching raids on the northern Gaza Strip, where at least two have been injured, and on agricultural lands in Rafah in the south.\n",
      "THE PROCESSED TWEET IS: ['🚨', 'iof', 'warplan', 'launch', 'raid', 'northern', 'gaza', 'strip', 'least', 'two', 'injur', 'agricultur', 'land', 'rafah', 'south']\n",
      "1\t0.46280453\tb' iof warplan launch raid northern gaza strip least two injur agricultur land rafah south'\n",
      "THE TWEET IS: bold🚨 IOF warplanes launch a new aggression in the north of the Gaza Strip.\n",
      "THE PROCESSED TWEET IS: ['bold🚨', 'iof', 'warplan', 'launch', 'new', 'aggress', 'north', 'gaza', 'strip']\n",
      "1\t0.30274725\tb'bold iof warplan launch new aggress north gaza strip'\n",
      "THE TWEET IS: bold🚨 IOF warplanes target sites in east Gaza. No injuries have been reported.\n",
      "THE PROCESSED TWEET IS: ['bold🚨', 'iof', 'warplan', 'target', 'site', 'east', 'gaza', 'no', 'injuri', 'report']\n",
      "1\t0.37170898\tb'bold iof warplan target site east gaza no injuri report'\n",
      "THE TWEET IS: 🚨 IOF warplanes bombed areas near Nusseirat refugee camp in central Gaza. A number of casualties are reported.\n",
      "THE PROCESSED TWEET IS: ['🚨', 'iof', 'warplan', 'bomb', 'area', 'near', 'nusseirat', 'refuge', 'camp', 'central', 'gaza', 'a', 'number', 'casualti', 'report']\n",
      "1\t0.41959013\tb' iof warplan bomb area near nusseirat refuge camp central gaza a number casualti report'\n",
      "THE TWEET IS: 🚨 IOF warplanes continue to bomb sites in the northern, central, and southern Gaza Strip.\n",
      "THE PROCESSED TWEET IS: ['🚨', 'iof', 'warplan', 'continu', 'bomb', 'site', 'northern', 'central', 'southern', 'gaza', 'strip']\n",
      "1\t0.44672616\tb' iof warplan continu bomb site northern central southern gaza strip'\n",
      "THE TWEET IS: Three injuries arrived at the Indonesian Hospital as a result of the recent bombing of the town of Beit Lahia, in the northern Gaza Strip.The IOF is currently conducting new raids on central Gaza.\n",
      "THE PROCESSED TWEET IS: ['three', 'injuri', 'arriv', 'indonesian', 'hospit', 'result', 'recent', 'bomb', 'town', 'beit', 'lahia', 'northern', 'gaza', 'strip.th', 'iof', 'current', 'conduct', 'new', 'raid', 'central', 'gaza']\n",
      "1\t0.22689189\tb'three injuri arriv indonesian hospit result recent bomb town beit lahia northern gaza strip.th iof current conduct new raid central gaza'\n",
      "THE TWEET IS: bold🚨 Missile sirens ring as the resistance launches a barrage of rockets at settlements south of the Gaza Strip, simultaneously with the start of the security assessment session held by Netanyahu.\n",
      "THE PROCESSED TWEET IS: ['bold🚨', 'missil', 'siren', 'ring', 'resist', 'launch', 'barrag', 'rocket', 'settlement', 'south', 'gaza', 'strip', 'simultan', 'start', 'secur', 'assess', 'session', 'held', 'netanyahu']\n",
      "1\t0.27530950\tb'bold missil siren ring resist launch barrag rocket settlement south gaza strip simultan start secur assess session held netanyahu'\n",
      "THE TWEET IS: bold🚨 Missile sirens ring again in the settlements surrounding the Gaza Strip as the Palestinian resistance fires another salvo of rockets towards them.\n",
      "THE PROCESSED TWEET IS: ['bold🚨', 'missil', 'siren', 'ring', 'settlement', 'surround', 'gaza', 'strip', 'palestinian', 'resist', 'fire', 'anoth', 'salvo', 'rocket', 'toward']\n",
      "1\t0.49658228\tb'bold missil siren ring settlement surround gaza strip palestinian resist fire anoth salvo rocket toward'\n",
      "THE TWEET IS: 🚨 Another round of missiles has been launched from Gaza towards “Sderot” and surrounding settlements.\n",
      "THE PROCESSED TWEET IS: ['🚨', 'anoth', 'round', 'missil', 'launch', 'gaza', 'toward', '“', 'sderot', '”', 'surround', 'settlement']\n",
      "1\t0.36110463\tb' anoth round missil launch gaza toward  sderot  surround settlement'\n",
      "THE TWEET IS: Zionist warplanes are striking targets in the north of the Gaza Strip.\n",
      "THE PROCESSED TWEET IS: ['zionist', 'warplan', 'strike', 'target', 'north', 'gaza', 'strip']\n",
      "1\t0.40366084\tb'zionist warplan strike target north gaza strip'\n",
      "THE TWEET IS: bold🚨 IOF warplanes target agricultural fields in Beit Hanoun in the north of the Gaza Strip.\n",
      "THE PROCESSED TWEET IS: ['bold🚨', 'iof', 'warplan', 'target', 'agricultur', 'field', 'beit', 'hanoun', 'north', 'gaza', 'strip']\n",
      "1\t0.49695814\tb'bold iof warplan target agricultur field beit hanoun north gaza strip'\n",
      "THE TWEET IS: bold🚨 IOF drones target two houses in Rafah in the south of the Gaza strip and agricultural fields in Al-Zaitoun neighborhood east of Gaza City.\n",
      "THE PROCESSED TWEET IS: ['bold🚨', 'iof', 'drone', 'target', 'two', 'hous', 'rafah', 'south', 'gaza', 'strip', 'agricultur', 'field', 'al-zaitoun', 'neighborhood', 'east', 'gaza', 'citi']\n",
      "1\t0.21575566\tb'bold iof drone target two hous rafah south gaza strip agricultur field al-zaitoun neighborhood east gaza citi'\n",
      "THE TWEET IS: bold🚨 IOF warplanes targeted a house east of Khan Yunis in the south of Gaza as well as agricultural fields in the north of the Strip.\n",
      "THE PROCESSED TWEET IS: ['bold🚨', 'iof', 'warplan', 'target', 'hous', 'east', 'khan', 'yuni', 'south', 'gaza', 'well', 'agricultur', 'field', 'north', 'strip']\n",
      "1\t0.49315694\tb'bold iof warplan target hous east khan yuni south gaza well agricultur field north strip'\n",
      "THE TWEET IS: 🚨 Video documentation of the IOF warplanes bombing clear residential areas in Beit Lahia, north of Gaza and directly targeting an apartment in west of Gaza City.A number of injuries have been evacuated from the apartment targeted in the citybold of Gaza.\n",
      "THE PROCESSED TWEET IS: ['🚨', 'video', 'document', 'iof', 'warplan', 'bomb', 'clear', 'residenti', 'area', 'beit', 'lahia', 'north', 'gaza', 'directli', 'target', 'apart', 'west', 'gaza', 'city.a', 'number', 'injuri', 'evacu', 'apart', 'target', 'citybold', 'gaza']\n",
      "1\t0.27697164\tb' video document iof warplan bomb clear residenti area beit lahia north gaza directli target apart west gaza city.a number injuri evacu apart target citybold gaza'\n"
     ]
    },
    {
     "name": "stdout",
     "output_type": "stream",
     "text": [
      "THE TWEET IS: bold🚨 IOF warplanes targeted agricultural fields in Rafah in the south of Gaza as well as in the north of the Strip.\n",
      "THE PROCESSED TWEET IS: ['bold🚨', 'iof', 'warplan', 'target', 'agricultur', 'field', 'rafah', 'south', 'gaza', 'well', 'north', 'strip']\n",
      "1\t0.48183282\tb'bold iof warplan target agricultur field rafah south gaza well north strip'\n",
      "THE TWEET IS: The Ministry of Health in Gaza: 33 citizens, including six children and three women, have ascended to martyrdom as a result of the ongoing “israeli” aggression on Gaza and 147 civilians were wounded.\n",
      "THE PROCESSED TWEET IS: ['the', 'ministri', 'health', 'gaza', '33', 'citizen', 'includ', 'six', 'children', 'three', 'women', 'ascend', 'martyrdom', 'result', 'ongo', '“', 'isra', '”', 'aggress', 'gaza', '147', 'civilian', 'wound']\n",
      "1\t0.40590491\tb'the ministri health gaza 33 citizen includ six children three women ascend martyrdom result ongo  isra  aggress gaza 147 civilian wound'\n",
      "THE TWEET IS: bold🚨 IOF warplanes have directly targeted a home in Beit Lahia in the north of the Gaza Strip, destroying it completely.Two injuries have beenbold reported.\n",
      "THE PROCESSED TWEET IS: ['bold🚨', 'iof', 'warplan', 'directli', 'target', 'home', 'beit', 'lahia', 'north', 'gaza', 'strip', 'destroy', 'completely.two', 'injuri', 'beenbold', 'report']\n",
      "1\t0.21324575\tb'bold iof warplan directli target home beit lahia north gaza strip destroy completely.two injuri beenbold report'\n",
      "THE TWEET IS: Video documentation of IOF warplanes directly striking another home in a residential area in Beit Hanoun, north of Gaza, a short time ago.\n",
      "THE PROCESSED TWEET IS: ['video', 'document', 'iof', 'warplan', 'directli', 'strike', 'anoth', 'home', 'residenti', 'area', 'beit', 'hanoun', 'north', 'gaza', 'short', 'time', 'ago']\n",
      "1\t0.21891230\tb'video document iof warplan directli strike anoth home residenti area beit hanoun north gaza short time ago'\n",
      "THE TWEET IS: bold🚨 The IOF is launching heavy airstrikes in the north, east and south of Gaza City, as well as in other areas across the Strip.\n",
      "THE PROCESSED TWEET IS: ['bold🚨', 'the', 'iof', 'launch', 'heavi', 'airstrik', 'north', 'east', 'south', 'gaza', 'citi', 'well', 'area', 'across', 'strip']\n",
      "1\t0.23980235\tb'bold the iof launch heavi airstrik north east south gaza citi well area across strip'\n",
      "THE TWEET IS: bold🚨 Missile sirens ring in occupied Asqalan and other settlements surrounding the Gaza Strip as the resistance in Gaza launches a heavy barrage of rockets towards the occupied territories, shortly after the statement issued by Saraya Al-Quds.\n",
      "THE PROCESSED TWEET IS: ['bold🚨', 'missil', 'siren', 'ring', 'occupi', 'asqalan', 'settlement', 'surround', 'gaza', 'strip', 'resist', 'gaza', 'launch', 'heavi', 'barrag', 'rocket', 'toward', 'occupi', 'territori', 'shortli', 'statement', 'issu', 'saraya', 'al-qud']\n",
      "1\t0.27959807\tb'bold missil siren ring occupi asqalan settlement surround gaza strip resist gaza launch heavi barrag rocket toward occupi territori shortli statement issu saraya al-qud'\n",
      "THE TWEET IS: bold🚨 IOF warplanes renew their airstrikes targeting a home south of Gaza City, and other sites in Beit Hanoun in the north of the Gaza Strip and Khan Yunis in the south the Strip. One Palestinian has been reportedly wounded in Beit Hanoun.\n",
      "THE PROCESSED TWEET IS: ['bold🚨', 'iof', 'warplan', 'renew', 'airstrik', 'target', 'home', 'south', 'gaza', 'citi', 'site', 'beit', 'hanoun', 'north', 'gaza', 'strip', 'khan', 'yuni', 'south', 'strip', 'one', 'palestinian', 'reportedli', 'wound', 'beit', 'hanoun']\n",
      "1\t0.47059288\tb'bold iof warplan renew airstrik target home south gaza citi site beit hanoun north gaza strip khan yuni south strip one palestinian reportedli wound beit hanoun'\n",
      "THE TWEET IS: bold🚨 IOF warplanes have targeted a home in Bi’r Al-Naaja, in the north of the Gaza Strip. An agricultural field in Khan Yunis, in the south of the Strip, has also been bombed as well as sites in Jabalia, in the north of the Strip.\n",
      "THE PROCESSED TWEET IS: ['bold🚨', 'iof', 'warplan', 'target', 'home', 'bi', '’', 'r', 'al-naaja', 'north', 'gaza', 'strip', 'an', 'agricultur', 'field', 'khan', 'yuni', 'south', 'strip', 'also', 'bomb', 'well', 'site', 'jabalia', 'north', 'strip']\n",
      "1\t0.12843729\tb'bold iof warplan target home bi  r al-naaja north gaza strip an agricultur field khan yuni south strip also bomb well site jabalia north strip'\n",
      "THE TWEET IS: 🚨🚀 Missile sirens ring in all settlements surrounding Gaza as the resistance launches barrages of rockets towards them.\n",
      "THE PROCESSED TWEET IS: ['🚨🚀', 'missil', 'siren', 'ring', 'settlement', 'surround', 'gaza', 'resist', 'launch', 'barrag', 'rocket', 'toward']\n",
      "1\t0.35971632\tb' missil siren ring settlement surround gaza resist launch barrag rocket toward'\n",
      "THE TWEET IS: 🚨 A number of casualties are reported after IOF warplanes struck a group of rocket launchers in southern Gaza.\n",
      "THE PROCESSED TWEET IS: ['🚨', 'a', 'number', 'casualti', 'report', 'iof', 'warplan', 'struck', 'group', 'rocket', 'launcher', 'southern', 'gaza']\n",
      "1\t0.34986192\tb' a number casualti report iof warplan struck group rocket launcher southern gaza'\n",
      "THE TWEET IS: 🚀 It was confirmed that a single rocket was launched from Gaza toward occupied Asqalan. The rocket landed in an open area near the coast.\n",
      "THE PROCESSED TWEET IS: ['🚀', 'it', 'confirm', 'singl', 'rocket', 'launch', 'gaza', 'toward', 'occupi', 'asqalan', 'the', 'rocket', 'land', 'open', 'area', 'near', 'coast']\n",
      "1\t0.48133063\tb' it confirm singl rocket launch gaza toward occupi asqalan the rocket land open area near coast'\n",
      "THE TWEET IS: 🚨 Sirens are ringing in the settlement of \"Yevit\" near Areeha following reports of suspected infiltration. A search is underway.\n",
      "THE PROCESSED TWEET IS: ['🚨', 'siren', 'ring', 'settlement', '``', 'yevit', \"''\", 'near', 'areeha', 'follow', 'report', 'suspect', 'infiltr', 'a', 'search', 'underway']\n",
      "1\t0.47675456\tb\" siren ring settlement `` yevit '' near areeha follow report suspect infiltr a search underway\"\n",
      "THE TWEET IS: customemoji⏺stickers/AnimatedSticker.tgs🎥 RNN is now on TikTok! Support and follow us here:link\n",
      "THE PROCESSED TWEET IS: ['customemoji⏺stickers/animatedsticker.tgs🎥', 'rnn', 'tiktok', 'support', 'follow', 'us', 'link']\n",
      "1\t0.15616603\tb'customemojistickers/animatedsticker.tgs rnn tiktok support follow us link'\n",
      "THE TWEET IS: The IOF has raided the home of elected Hamas leader Dr. Azzam Salhab in AlKhalil.The IOF has confiscated a number of surveillance camera recordings in the area. Reports suggest that an unknown security incident took place in the area.\n",
      "THE PROCESSED TWEET IS: ['the', 'iof', 'raid', 'home', 'elect', 'hama', 'leader', 'dr.', 'azzam', 'salhab', 'alkhalil.th', 'iof', 'confisc', 'number', 'surveil', 'camera', 'record', 'area', 'report', 'suggest', 'unknown', 'secur', 'incid', 'took', 'place', 'area']\n",
      "1\t0.36322771\tb'the iof raid home elect hama leader dr. azzam salhab alkhalil.th iof confisc number surveil camera record area report suggest unknown secur incid took place area'\n",
      "THE TWEET IS: 🚨 A fierce explosion has been reported in the vicinity of Jenin refugee camp. As plumes of smoke rise, warning sirens have been activated across the city.\n",
      "THE PROCESSED TWEET IS: ['🚨', 'a', 'fierc', 'explos', 'report', 'vicin', 'jenin', 'refuge', 'camp', 'as', 'plume', 'smoke', 'rise', 'warn', 'siren', 'activ', 'across', 'citi']\n",
      "1\t0.36429502\tb' a fierc explos report vicin jenin refuge camp as plume smoke rise warn siren activ across citi'\n",
      "THE TWEET IS: Attached are the full remarks of the Chief of the General Staff: \"So far, the results are good, but see, we are targeting the leaders. Marwan Issa, the arrest of senior operatives. This is very, very important for pressuring Hamas, it's very important for pressuring the negotiations as well, and we are serving two purposes here. A heavy strike on Hamas, dismantling Hamas, killing Hamas’ military leadership, striking the civil leadership, striking the operatives. And not to allow such a place to be controlled, and we are also putting pressure on the negotiations. We came here to apprehend many operatives, with an emphasis on senior operatives, and to kill those who fight. We prefer prisoners, they are important cards, for interrogations, you understand this, to kill whoever fights. So far, the performance of the mission is very good. The method of operation, I tell you, from the start we've been talking about the element of surprise operations, deception, and here maybe the best example so far of using it. A surprising arrival, to a place that Hamas returned to, turned it into a center of activity, a command and control center, operating from within it, managing from within it an attempt to control the northern Strip. And then truly a surprising arrival in just minutes, good closure, entry of forces. See, entry into combat in a hospital compound, teams, patients, those taking shelter. All these things together, with the firing here about 20 terrorists who were killed on entry. The level of combat and mission performance in the first stage is very very high.\"\n",
      "THE PROCESSED TWEET IS: ['attach', 'full', 'remark', 'chief', 'gener', 'staff', '``', 'so', 'far', 'result', 'good', 'see', 'target', 'leader', 'marwan', 'issa', 'arrest', 'senior', 'oper', 'thi', 'import', 'pressur', 'hama', \"'s\", 'import', 'pressur', 'negoti', 'well', 'serv', 'two', 'purpos', 'a', 'heavi', 'strike', 'hama', 'dismantl', 'hama', 'kill', 'hama', '’', 'militari', 'leadership', 'strike', 'civil', 'leadership', 'strike', 'oper', 'and', 'allow', 'place', 'control', 'also', 'put', 'pressur', 'negoti', 'we', 'came', 'apprehend', 'mani', 'oper', 'emphasi', 'senior', 'oper', 'kill', 'fight', 'we', 'prefer', 'prison', 'import', 'card', 'interrog', 'understand', 'kill', 'whoever', 'fight', 'so', 'far', 'perform', 'mission', 'good', 'the', 'method', 'oper', 'i', 'tell', 'start', \"'ve\", 'talk', 'element', 'surpris', 'oper', 'decept', 'mayb', 'best', 'exampl', 'far', 'use', 'a', 'surpris', 'arriv', 'place', 'hama', 'return', 'turn', 'center', 'activ', 'command', 'control', 'center', 'oper', 'within', 'manag', 'within', 'attempt', 'control', 'northern', 'strip', 'and', 'truli', 'surpris', 'arriv', 'minut', 'good', 'closur', 'entri', 'forc', 'see', 'entri', 'combat', 'hospit', 'compound', 'team', 'patient', 'take', 'shelter', 'all', 'thing', 'togeth', 'fire', '20', 'terrorist', 'kill', 'entri', 'the', 'level', 'combat', 'mission', 'perform', 'first', 'stage', 'high', \"''\"]\n",
      "0\t0.86158336\tb\"attach full remark chief gener staff `` so far result good see target leader marwan issa arrest senior oper thi import pressur hama 's import pressur negoti well serv two purpos a heavi strike hama dismantl hama kill hama  militari leadership strike civil leadership strike oper and allow place control also put pressur negoti we came apprehend mani oper emphasi senior oper kill fight we prefer prison import card interrog understand kill whoever fight so far perform mission good the method oper i tell start 've talk element surpris oper decept mayb best exampl far use a surpris arriv place hama return turn center activ command control center oper within manag within attempt control northern strip and truli surpris arriv minut good closur entri forc see entri combat hospit compound team patient take shelter all thing togeth fire 20 terrorist kill entri the level combat mission perform first stage high ''\"\n",
      "THE TWEET IS: IDF: New UAV Squadron Opened in the Israeli Air ForceLast night (Sunday), a new UAV Squadron was opened at the Palmachim Air Force base. The 147th \"Battering Ram\" Squadron will operate the \"Star\" unmanned aerial vehicle. The squadron was opened as part of the expansion of the \"Star\" UAV forces in combat and changes in the organization of the UAV Array. The UAVs carry out various strikes and intelligencegathering missions in the south, north, and Judea and Samaria at all hours of the day.*Commanding Officer of the Israeli Air Force, Maj. Gen. Tomer Bar*: \"This is a time of war, a historic time. We are opening the 147th Squadron, which is a tremendous addition to the force. In this just war, the entire UAV Array demonstrates its operational competence and extremely high operational effectiveness. Thousands of Hamas operatives have been killed, a range of intelligence gathering missions, 24/7 availability and flexibility for about half a year in the war.\"*Commanding Officer of the Palmachim Air Force Base, Brig. Gen. Omri Dor*: \"The UAV Array is at the forefront of the IAF's operational activities and carries out tasks of intelligence gathering, recording aerial footage, and strikes in cooperation with the ground forces in ground operations. Over the last six months, the array has adapted, changed rapidly, and adjusted itself to the needs of this time. This, while demonstrating professionalism, initiating contact and a deep partnership with the ground forces.\"Attached is footage of a UAV strike on a vehicle containing terrorists from Lebanon: link are related photos: link\n",
      "THE PROCESSED TWEET IS: ['idf', 'new', 'uav', 'squadron', 'open', 'isra', 'air', 'forcelast', 'night', 'sunday', 'new', 'uav', 'squadron', 'open', 'palmachim', 'air', 'forc', 'base', 'the', '147th', '``', 'batter', 'ram', \"''\", 'squadron', 'oper', '``', 'star', \"''\", 'unman', 'aerial', 'vehicl', 'the', 'squadron', 'open', 'part', 'expans', '``', 'star', \"''\", 'uav', 'forc', 'combat', 'chang', 'organ', 'uav', 'array', 'the', 'uav', 'carri', 'variou', 'strike', 'intelligencegath', 'mission', 'south', 'north', 'judea', 'samaria', 'hour', 'day', 'command', 'offic', 'isra', 'air', 'forc', 'maj.', 'gen.', 'tomer', 'bar', '``', 'thi', 'time', 'war', 'histor', 'time', 'we', 'open', '147th', 'squadron', 'tremend', 'addit', 'forc', 'in', 'war', 'entir', 'uav', 'array', 'demonstr', 'oper', 'compet', 'extrem', 'high', 'oper', 'effect', 'thousand', 'hama', 'oper', 'kill', 'rang', 'intellig', 'gather', 'mission', '24/7', 'avail', 'flexibl', 'half', 'year', 'war', '``', 'command', 'offic', 'palmachim', 'air', 'forc', 'base', 'brig', 'gen.', 'omri', 'dor', '``', 'the', 'uav', 'array', 'forefront', 'iaf', \"'s\", 'oper', 'activ', 'carri', 'task', 'intellig', 'gather', 'record', 'aerial', 'footag', 'strike', 'cooper', 'ground', 'forc', 'ground', 'oper', 'over', 'last', 'six', 'month', 'array', 'adapt', 'chang', 'rapidli', 'adjust', 'need', 'time', 'thi', 'demonstr', 'profession', 'initi', 'contact', 'deep', 'partnership', 'ground', 'forc', '``', 'attach', 'footag', 'uav', 'strike', 'vehicl', 'contain', 'terrorist', 'lebanon', 'link', 'relat', 'photo', 'link']\n",
      "0\t0.99266878\tb\"idf new uav squadron open isra air forcelast night sunday new uav squadron open palmachim air forc base the 147th `` batter ram '' squadron oper `` star '' unman aerial vehicl the squadron open part expans `` star '' uav forc combat chang organ uav array the uav carri variou strike intelligencegath mission south north judea samaria hour day command offic isra air forc maj. gen. tomer bar `` thi time war histor time we open 147th squadron tremend addit forc in war entir uav array demonstr oper compet extrem high oper effect thousand hama oper kill rang intellig gather mission 24/7 avail flexibl half year war `` command offic palmachim air forc base brig gen. omri dor `` the uav array forefront iaf 's oper activ carri task intellig gather record aerial footag strike cooper ground forc ground oper over last six month array adapt chang rapidli adjust need time thi demonstr profession initi contact deep partnership ground forc `` attach footag uav strike vehicl contain terrorist lebanon link relat photo link\"\n"
     ]
    },
    {
     "name": "stdout",
     "output_type": "stream",
     "text": [
      "THE TWEET IS: IDF: The Commanding Officer of the 91st Division and the the Commanding Officer of the 146th Division met with heads of authorities and councils in the north before Passover: \"Our commitment is to be here until the reality changes\"The Commanding Officer of the 91st Galilee Division, BG Shay Kalper and the Commanding Officer of the 146th Division, BG Yisrael Shomer met yesterday (Wednesday) with the heads of the local authorities, councils, and the security officers in the north of Israel.As part of the meeting, a conversation was held with the heads of the authorities, in which they were presented with the situational assessment so far, as well as the processes to accelerate the readiness for continued fighting in the north of Israel.The commanding officers of the divisions expressed their appreciation to the heads of the local authorities, councils, and the security officers for demonstrating true leadership and dedication over the past six months. He thanked them for playing an integral role in maintaining security in the region.From the words of the Commanding Officer of the 91st Galilee Division, BG Shay Kalper: \"We are all writing a chapter in the history of the Galilee. We are determined and ready to win and in our generation we were privileged to take part in this matter. The period we are in symbolizes the connection between our generations, from the Seder night when we will delve into the history of our people, through Holocaust Remembrance Day, Yom HaZikaron and Independence Day that remind us why we are here and why we need to preserve and protect our existence.\"From the words of the Commanding Officer of the 146th Division, BG Yisrael Shomer: \"I want to say thank you and express great appreciation for the resilience and leadership. Every day, I learn from you what leadership is. I see the resilience and the firm stand, when you stand for your values ​​and all of our values and represent the residents. My personal commitment and that of my subordinates is to be here until the security reality changes.”Attached is a related video: link Attached are related photos: link\n",
      "THE PROCESSED TWEET IS: ['idf', 'the', 'command', 'offic', '91st', 'divis', 'command', 'offic', '146th', 'divis', 'met', 'head', 'author', 'council', 'north', 'passov', '``', 'our', 'commit', 'realiti', 'chang', \"''\", 'the', 'command', 'offic', '91st', 'galile', 'divis', 'bg', 'shay', 'kalper', 'command', 'offic', '146th', 'divis', 'bg', 'yisrael', 'shomer', 'met', 'yesterday', 'wednesday', 'head', 'local', 'author', 'council', 'secur', 'offic', 'north', 'israel.a', 'part', 'meet', 'convers', 'held', 'head', 'author', 'present', 'situat', 'assess', 'far', 'well', 'process', 'acceler', 'readi', 'continu', 'fight', 'north', 'israel.th', 'command', 'offic', 'divis', 'express', 'appreci', 'head', 'local', 'author', 'council', 'secur', 'offic', 'demonstr', 'true', 'leadership', 'dedic', 'past', 'six', 'month', 'he', 'thank', 'play', 'integr', 'role', 'maintain', 'secur', 'region.from', 'word', 'command', 'offic', '91st', 'galile', 'divis', 'bg', 'shay', 'kalper', '``', 'we', 'write', 'chapter', 'histori', 'galile', 'we', 'determin', 'readi', 'win', 'gener', 'privileg', 'take', 'part', 'matter', 'the', 'period', 'symbol', 'connect', 'gener', 'seder', 'night', 'delv', 'histori', 'peopl', 'holocaust', 'remembr', 'day', 'yom', 'hazikaron', 'independ', 'day', 'remind', 'us', 'need', 'preserv', 'protect', 'exist', '``', 'from', 'word', 'command', 'offic', '146th', 'divis', 'bg', 'yisrael', 'shomer', '``', 'i', 'want', 'say', 'thank', 'express', 'great', 'appreci', 'resili', 'leadership', 'everi', 'day', 'i', 'learn', 'leadership', 'i', 'see', 'resili', 'firm', 'stand', 'stand', 'valu', '\\u200b\\u200band', 'valu', 'repres', 'resid', 'my', 'person', 'commit', 'subordin', 'secur', 'realiti', 'changes.', '”', 'attach', 'relat', 'video', 'link', 'attach', 'relat', 'photo', 'link']\n",
      "0\t0.96214097\tb\"idf the command offic 91st divis command offic 146th divis met head author council north passov `` our commit realiti chang '' the command offic 91st galile divis bg shay kalper command offic 146th divis bg yisrael shomer met yesterday wednesday head local author council secur offic north israel.a part meet convers held head author present situat assess far well process acceler readi continu fight north israel.th command offic divis express appreci head local author council secur offic demonstr true leadership dedic past six month he thank play integr role maintain secur region.from word command offic 91st galile divis bg shay kalper `` we write chapter histori galile we determin readi win gener privileg take part matter the period symbol connect gener seder night delv histori peopl holocaust remembr day yom hazikaron independ day remind us need preserv protect exist `` from word command offic 146th divis bg yisrael shomer `` i want say thank express great appreci resili leadership everi day i learn leadership i see resili firm stand stand valu and valu repres resid my person commit subordin secur realiti changes.  attach relat video link attach relat photo link\"\n"
     ]
    }
   ],
   "source": [
    "# Some error analysis done for you\n",
    "print('Label Predicted TEXT')\n",
    "for x,y in zip(test_x,test_y):\n",
    "    y_hat = utils.predict_text(x, freqs, theta)\n",
    "\n",
    "    if np.abs(y - (y_hat > 0.5)) > 0:\n",
    "        print('THE TEXT IS:', x)\n",
    "        print('THE PROCESSED TEXT IS:', utils.process_text(x))\n",
    "        print('%d\\t%0.8f\\t%s' % (y, y_hat, ' '.join(utils.process_text(x)).encode('ascii', 'ignore')))"
   ]
  },
  {
   "cell_type": "markdown",
   "metadata": {},
   "source": [
    "# Doing the same but using PyTorch below\n"
   ]
  },
  {
   "cell_type": "code",
   "execution_count": 33,
   "metadata": {
    "id": "QB78MokIt8WD"
   },
   "outputs": [],
   "source": [
    "# combine positive and negative labels\n",
    "train_y_torch = torch.cat((torch.ones((len(train_ham), 1)), torch.zeros((len(train_idf), 1))))\n",
    "test_y_torch = torch.cat((torch.ones((len(test_ham), 1)), torch.zeros((len(test_idf), 1))))\n",
    "\n",
    "\n",
    "# collect the features 'x' and stack them into a matrix 'X'\n",
    "x_train = torch.zeros((len(train_x), 3))\n",
    "for i in range(len(train_x)):\n",
    "    x_train[i, :]= utils.extract_features_t(train_x[i], freqs)\n",
    "    \n",
    "x_test = torch.zeros((len(test_x), 3))\n",
    "for i in range(len(test_x)):\n",
    "    x_test[i, :]= utils.extract_features_t(test_x[i], freqs)"
   ]
  },
  {
   "cell_type": "code",
   "execution_count": 34,
   "metadata": {
    "colab": {
     "base_uri": "https://localhost:8080/",
     "height": 367
    },
    "id": "nwigeHCNi-ys",
    "outputId": "f4d4135d-df8a-468c-c7e8-87c74f364797",
    "scrolled": true
   },
   "outputs": [],
   "source": [
    "def training_loop(n_epochs, optimizer, model, loss_fn, t_train, t_val,\n",
    "                  t_cl_train, t_cl_val):\n",
    "    for epoch in range(1, n_epochs + 1):\n",
    "        t_p_train = model(t_train)\n",
    "        loss_train = loss_fn(t_p_train, t_cl_train)\n",
    "\n",
    "        t_p_val = model(t_val)\n",
    "        loss_val = loss_fn(t_p_val, t_cl_val)\n",
    "\n",
    "        optimizer.zero_grad()\n",
    "        loss_train.backward()\n",
    "        optimizer.step()\n",
    "\n",
    "        if epoch == 1 or epoch % 1000 == 0:\n",
    "            print(f\"Epoch {epoch}, Training loss {loss_train.item():.4f},\"\n",
    "                  f\"Validation loss {loss_val.item():.4f}\")\n",
    "\n",
    "linear_model = nn.Sequential(\n",
    "            nn.Linear(3, 1),\n",
    "            nn.Sigmoid()\n",
    "            )\n",
    "optimizer = optim.SGD(\n",
    "    linear_model.parameters(),\n",
    "    lr=1e-3)\n",
    "\n",
    "loss_fn = nn.BCELoss()\n"
   ]
  },
  {
   "cell_type": "code",
   "execution_count": 35,
   "metadata": {},
   "outputs": [
    {
     "name": "stdout",
     "output_type": "stream",
     "text": [
      "Epoch 1, Training loss 37.2899,Validation loss 40.1194\n",
      "Epoch 1000, Training loss 0.4514,Validation loss 0.8641\n",
      "Epoch 2000, Training loss 0.4649,Validation loss 0.8937\n",
      "Epoch 3000, Training loss 0.4659,Validation loss 0.8701\n",
      "Epoch 4000, Training loss 0.4558,Validation loss 0.8774\n",
      "Epoch 5000, Training loss 0.4561,Validation loss 0.8708\n"
     ]
    }
   ],
   "source": [
    "training_loop(\n",
    "    n_epochs = 5000,\n",
    "    optimizer = optimizer,\n",
    "    model = linear_model,\n",
    "    loss_fn = loss_fn,\n",
    "    t_train = x_train,\n",
    "    t_val = x_test,\n",
    "    t_cl_train = train_y_torch,\n",
    "    t_cl_val = test_y_torch)"
   ]
  },
  {
   "cell_type": "code",
   "execution_count": 40,
   "metadata": {},
   "outputs": [],
   "source": [
    "torch.save(linear_model.state_dict(), 'logistic_regression.pt')"
   ]
  },
  {
   "cell_type": "code",
   "execution_count": 36,
   "metadata": {},
   "outputs": [
    {
     "data": {
      "text/plain": [
       "array([-0.52312   ,  0.48137847, -0.33270127], dtype=float32)"
      ]
     },
     "execution_count": 36,
     "metadata": {},
     "output_type": "execute_result"
    }
   ],
   "source": [
    "theta_p = next(linear_model.parameters())\n",
    "theta_p = theta_p.squeeze().detach().numpy()\n",
    "theta_p "
   ]
  },
  {
   "cell_type": "code",
   "execution_count": 18,
   "metadata": {},
   "outputs": [
    {
     "data": {
      "text/plain": [
       "<All keys matched successfully>"
      ]
     },
     "execution_count": 18,
     "metadata": {},
     "output_type": "execute_result"
    }
   ],
   "source": [
    "model = linear_model\n",
    "model.load_state_dict(torch.load('logistic_regression.pt'))"
   ]
  },
  {
   "cell_type": "code",
   "execution_count": 37,
   "metadata": {
    "id": "oo206NVJDnm7"
   },
   "outputs": [
    {
     "name": "stdout",
     "output_type": "stream",
     "text": [
      "The number of martyrs (https://t.me/PalestineResist/48831) as a result of the IOF strike targeting displaced people in Al-Attar Street near Khan Younis, southern #Gaza Strip, has been raised to at least 17 martyrs and more than 26 injuries were reported (media 2 in Al-Nasser hospital). \n",
      "\n",
      "In addition, at least 20 martyrs have ascended and dozens of injuries were reported after the IOF targeted an UNRWA school (https://t.me/PalestineResist/48831) housing displaced people in Nusseirat camp, in central #Gaza Strip. -> 1.000000\n"
     ]
    },
    {
     "name": "stderr",
     "output_type": "stream",
     "text": [
      "/var/folders/hl/d5jnxqdx1tlglj_yhvqpcnsh0000gn/T/ipykernel_73790/2659313386.py:4: DeprecationWarning: Conversion of an array with ndim > 0 to a scalar is deprecated, and will error in future. Ensure you extract a single element from your array before performing this operation. (Deprecated NumPy 1.25.)\n",
      "  print( '%s -> %f' % (text, utils.predict_text(text, freqs, theta_p)))\n"
     ]
    }
   ],
   "source": [
    "for text in ['''The number of martyrs (https://t.me/PalestineResist/48831) as a result of the IOF strike targeting displaced people in Al-Attar Street near Khan Younis, southern #Gaza Strip, has been raised to at least 17 martyrs and more than 26 injuries were reported (media 2 in Al-Nasser hospital). \n",
    "\n",
    "In addition, at least 20 martyrs have ascended and dozens of injuries were reported after the IOF targeted an UNRWA school (https://t.me/PalestineResist/48831) housing displaced people in Nusseirat camp, in central #Gaza Strip.''']:\n",
    "  print( '%s -> %f' % (text, utils.predict_text(text, freqs, theta_p)))"
   ]
  },
  {
   "cell_type": "code",
   "execution_count": 38,
   "metadata": {
    "id": "HcCcrJKpDnkH"
   },
   "outputs": [
    {
     "name": "stdout",
     "output_type": "stream",
     "text": [
      "Label Predicted Tweet\n",
      "THE TEXT IS: 🚨 BREAKING: After over an hour of fragile silence, missile sirens ring in the settlement of “Nir Am.” Preliminary reports indicate that missiles were launched from Gaza.\n",
      "THE PROCESSED TEXT IS: ['🚨', 'break', 'after', 'hour', 'fragil', 'silenc', 'missil', 'siren', 'ring', 'settlement', '“', 'nir', 'am.', '”', 'preliminari', 'report', 'indic', 'missil', 'launch', 'gaza']\n",
      "1\t0.00000000\tb' break after hour fragil silenc missil siren ring settlement  nir am.  preliminari report indic missil launch gaza'\n",
      "THE TEXT IS: Five injuries have been reported by the ministry of health in Gaza following the IOF bombing of the Strip yesterday.\n",
      "THE PROCESSED TEXT IS: ['five', 'injuri', 'report', 'ministri', 'health', 'gaza', 'follow', 'iof', 'bomb', 'strip', 'yesterday']\n",
      "1\t0.00000000\tb'five injuri report ministri health gaza follow iof bomb strip yesterday'\n",
      "THE TEXT IS: 🚨 A new round of raids by US-funded IOF warplanes bombs targets in the western Gaza Strip and Gaza City.\n",
      "THE PROCESSED TEXT IS: ['🚨', 'a', 'new', 'round', 'raid', 'us-fund', 'iof', 'warplan', 'bomb', 'target', 'western', 'gaza', 'strip', 'gaza', 'citi']\n",
      "1\t0.00000000\tb' a new round raid us-fund iof warplan bomb target western gaza strip gaza citi'\n"
     ]
    },
    {
     "name": "stderr",
     "output_type": "stream",
     "text": [
      "/var/folders/hl/d5jnxqdx1tlglj_yhvqpcnsh0000gn/T/ipykernel_73790/795965422.py:9: DeprecationWarning: Conversion of an array with ndim > 0 to a scalar is deprecated, and will error in future. Ensure you extract a single element from your array before performing this operation. (Deprecated NumPy 1.25.)\n",
      "  print('%d\\t%0.8f\\t%s' % (y, y_hat, ' '.join(utils.process_text(x)).encode('ascii', 'ignore')))\n"
     ]
    },
    {
     "name": "stdout",
     "output_type": "stream",
     "text": [
      "THE TEXT IS: 🚨 Explosions are reported in Khan Yunis, Gaza Strip, after the zionist forces launched strikes on the city. Details are emerging.\n",
      "THE PROCESSED TEXT IS: ['🚨', 'explos', 'report', 'khan', 'yuni', 'gaza', 'strip', 'zionist', 'forc', 'launch', 'strike', 'citi', 'detail', 'emerg']\n",
      "1\t0.00000000\tb' explos report khan yuni gaza strip zionist forc launch strike citi detail emerg'\n",
      "THE TEXT IS: 🚨 US-funded IOF warplanes are now bombing various areas in the Gaza Strip.\n",
      "THE PROCESSED TEXT IS: ['🚨', 'us-fund', 'iof', 'warplan', 'bomb', 'variou', 'area', 'gaza', 'strip']\n",
      "1\t0.00000000\tb' us-fund iof warplan bomb variou area gaza strip'\n",
      "THE TEXT IS: 🚨 IOF aggression continues in various areas on the Gaza Strip.\n",
      "THE PROCESSED TEXT IS: ['🚨', 'iof', 'aggress', 'continu', 'variou', 'area', 'gaza', 'strip']\n",
      "1\t0.00000000\tb' iof aggress continu variou area gaza strip'\n",
      "THE TEXT IS: Over 300 rockets were launched from Gaza in the last three hours.\n",
      "THE PROCESSED TEXT IS: ['over', '300', 'rocket', 'launch', 'gaza', 'last', 'three', 'hour']\n",
      "1\t0.00000000\tb'over 300 rocket launch gaza last three hour'\n",
      "THE TEXT IS: bold🚨 IOF warplanes are launching attacks on sites in northern Gaza.\n",
      "THE PROCESSED TEXT IS: ['bold🚨', 'iof', 'warplan', 'launch', 'attack', 'site', 'northern', 'gaza']\n",
      "1\t0.00000000\tb'bold iof warplan launch attack site northern gaza'\n",
      "THE TEXT IS: Local sources report that an “israeli” drone fired two missiles towards a house in the town of Qarara, east of Khan Younis in Gaza.\n",
      "THE PROCESSED TEXT IS: ['local', 'sourc', 'report', '“', 'isra', '”', 'drone', 'fire', 'two', 'missil', 'toward', 'hous', 'town', 'qarara', 'east', 'khan', 'youni', 'gaza']\n",
      "1\t0.00000000\tb'local sourc report  isra  drone fire two missil toward hous town qarara east khan youni gaza'\n",
      "THE TEXT IS: A warehouse in occupied Asqalan was significantly damaged after it was hit by a rocket fired from Gaza.\n",
      "THE PROCESSED TEXT IS: ['a', 'warehous', 'occupi', 'asqalan', 'significantli', 'damag', 'hit', 'rocket', 'fire', 'gaza']\n",
      "1\t0.00000000\tb'a warehous occupi asqalan significantli damag hit rocket fire gaza'\n",
      "THE TEXT IS: 🚨 Occupation forces struck without warning a residential apartment building north of Khan Yunis in the Gaza Strip using a suicide drone. Multiple wounded are reported.\n",
      "THE PROCESSED TEXT IS: ['🚨', 'occup', 'forc', 'struck', 'without', 'warn', 'residenti', 'apart', 'build', 'north', 'khan', 'yuni', 'gaza', 'strip', 'use', 'suicid', 'drone', 'multipl', 'wound', 'report']\n",
      "1\t0.00000000\tb' occup forc struck without warn residenti apart build north khan yuni gaza strip use suicid drone multipl wound report'\n",
      "THE TEXT IS: 🚨🚀 Missile sirens ring in various settlements to the east of the Gaza Strip as the resistance fires a barrage of rockets.\n",
      "THE PROCESSED TEXT IS: ['🚨🚀', 'missil', 'siren', 'ring', 'variou', 'settlement', 'east', 'gaza', 'strip', 'resist', 'fire', 'barrag', 'rocket']\n",
      "1\t0.00000000\tb' missil siren ring variou settlement east gaza strip resist fire barrag rocket'\n",
      "THE TEXT IS: Occupation warplanes are striking targets east of Rafah in the Gaza Strip.\n",
      "THE PROCESSED TEXT IS: ['occup', 'warplan', 'strike', 'target', 'east', 'rafah', 'gaza', 'strip']\n",
      "1\t0.00000000\tb'occup warplan strike target east rafah gaza strip'\n",
      "THE TEXT IS: 🚨 IOF warplanes are bombing an empty agricultural field in northern Gaza and a site in Rafah, southern Gaza.\n",
      "THE PROCESSED TEXT IS: ['🚨', 'iof', 'warplan', 'bomb', 'empti', 'agricultur', 'field', 'northern', 'gaza', 'site', 'rafah', 'southern', 'gaza']\n",
      "1\t0.00000000\tb' iof warplan bomb empti agricultur field northern gaza site rafah southern gaza'\n",
      "THE TEXT IS: 🚨 IOF warplanes are launching raids on the northern Gaza Strip, where at least two have been injured, and on agricultural lands in Rafah in the south.\n",
      "THE PROCESSED TEXT IS: ['🚨', 'iof', 'warplan', 'launch', 'raid', 'northern', 'gaza', 'strip', 'least', 'two', 'injur', 'agricultur', 'land', 'rafah', 'south']\n",
      "1\t0.00000000\tb' iof warplan launch raid northern gaza strip least two injur agricultur land rafah south'\n",
      "THE TEXT IS: bold🚨 IOF warplanes launch a new aggression in the north of the Gaza Strip.\n",
      "THE PROCESSED TEXT IS: ['bold🚨', 'iof', 'warplan', 'launch', 'new', 'aggress', 'north', 'gaza', 'strip']\n",
      "1\t0.00000000\tb'bold iof warplan launch new aggress north gaza strip'\n",
      "THE TEXT IS: bold🚨 IOF warplanes target sites in east Gaza. No injuries have been reported.\n",
      "THE PROCESSED TEXT IS: ['bold🚨', 'iof', 'warplan', 'target', 'site', 'east', 'gaza', 'no', 'injuri', 'report']\n",
      "1\t0.00000000\tb'bold iof warplan target site east gaza no injuri report'\n",
      "THE TEXT IS: 🚨 IOF warplanes bombed areas near Nusseirat refugee camp in central Gaza. A number of casualties are reported.\n",
      "THE PROCESSED TEXT IS: ['🚨', 'iof', 'warplan', 'bomb', 'area', 'near', 'nusseirat', 'refuge', 'camp', 'central', 'gaza', 'a', 'number', 'casualti', 'report']\n",
      "1\t0.00000000\tb' iof warplan bomb area near nusseirat refuge camp central gaza a number casualti report'\n",
      "THE TEXT IS: 🚨 IOF warplanes continue to bomb sites in the northern, central, and southern Gaza Strip.\n",
      "THE PROCESSED TEXT IS: ['🚨', 'iof', 'warplan', 'continu', 'bomb', 'site', 'northern', 'central', 'southern', 'gaza', 'strip']\n",
      "1\t0.00000000\tb' iof warplan continu bomb site northern central southern gaza strip'\n",
      "THE TEXT IS: Three injuries arrived at the Indonesian Hospital as a result of the recent bombing of the town of Beit Lahia, in the northern Gaza Strip.The IOF is currently conducting new raids on central Gaza.\n",
      "THE PROCESSED TEXT IS: ['three', 'injuri', 'arriv', 'indonesian', 'hospit', 'result', 'recent', 'bomb', 'town', 'beit', 'lahia', 'northern', 'gaza', 'strip.th', 'iof', 'current', 'conduct', 'new', 'raid', 'central', 'gaza']\n",
      "1\t0.00000000\tb'three injuri arriv indonesian hospit result recent bomb town beit lahia northern gaza strip.th iof current conduct new raid central gaza'\n",
      "THE TEXT IS: bold🚨 Missile sirens ring as the resistance launches a barrage of rockets at settlements south of the Gaza Strip, simultaneously with the start of the security assessment session held by Netanyahu.\n",
      "THE PROCESSED TEXT IS: ['bold🚨', 'missil', 'siren', 'ring', 'resist', 'launch', 'barrag', 'rocket', 'settlement', 'south', 'gaza', 'strip', 'simultan', 'start', 'secur', 'assess', 'session', 'held', 'netanyahu']\n",
      "1\t0.00000000\tb'bold missil siren ring resist launch barrag rocket settlement south gaza strip simultan start secur assess session held netanyahu'\n",
      "THE TEXT IS: 🚨 Another round of missiles has been launched from Gaza towards “Sderot” and surrounding settlements.\n",
      "THE PROCESSED TEXT IS: ['🚨', 'anoth', 'round', 'missil', 'launch', 'gaza', 'toward', '“', 'sderot', '”', 'surround', 'settlement']\n",
      "1\t0.00000000\tb' anoth round missil launch gaza toward  sderot  surround settlement'\n",
      "THE TEXT IS: Zionist warplanes are striking targets in the north of the Gaza Strip.\n",
      "THE PROCESSED TEXT IS: ['zionist', 'warplan', 'strike', 'target', 'north', 'gaza', 'strip']\n",
      "1\t0.00000000\tb'zionist warplan strike target north gaza strip'\n",
      "THE TEXT IS: bold🚨 IOF drones target two houses in Rafah in the south of the Gaza strip and agricultural fields in Al-Zaitoun neighborhood east of Gaza City.\n",
      "THE PROCESSED TEXT IS: ['bold🚨', 'iof', 'drone', 'target', 'two', 'hous', 'rafah', 'south', 'gaza', 'strip', 'agricultur', 'field', 'al-zaitoun', 'neighborhood', 'east', 'gaza', 'citi']\n",
      "1\t0.00000000\tb'bold iof drone target two hous rafah south gaza strip agricultur field al-zaitoun neighborhood east gaza citi'\n",
      "THE TEXT IS: 🚨 Video documentation of the IOF warplanes bombing clear residential areas in Beit Lahia, north of Gaza and directly targeting an apartment in west of Gaza City.A number of injuries have been evacuated from the apartment targeted in the citybold of Gaza.\n",
      "THE PROCESSED TEXT IS: ['🚨', 'video', 'document', 'iof', 'warplan', 'bomb', 'clear', 'residenti', 'area', 'beit', 'lahia', 'north', 'gaza', 'directli', 'target', 'apart', 'west', 'gaza', 'city.a', 'number', 'injuri', 'evacu', 'apart', 'target', 'citybold', 'gaza']\n",
      "1\t0.00000000\tb' video document iof warplan bomb clear residenti area beit lahia north gaza directli target apart west gaza city.a number injuri evacu apart target citybold gaza'\n",
      "THE TEXT IS: The Ministry of Health in Gaza: 33 citizens, including six children and three women, have ascended to martyrdom as a result of the ongoing “israeli” aggression on Gaza and 147 civilians were wounded.\n",
      "THE PROCESSED TEXT IS: ['the', 'ministri', 'health', 'gaza', '33', 'citizen', 'includ', 'six', 'children', 'three', 'women', 'ascend', 'martyrdom', 'result', 'ongo', '“', 'isra', '”', 'aggress', 'gaza', '147', 'civilian', 'wound']\n",
      "1\t0.00000000\tb'the ministri health gaza 33 citizen includ six children three women ascend martyrdom result ongo  isra  aggress gaza 147 civilian wound'\n",
      "THE TEXT IS: bold🚨 IOF warplanes have directly targeted a home in Beit Lahia in the north of the Gaza Strip, destroying it completely.Two injuries have beenbold reported.\n",
      "THE PROCESSED TEXT IS: ['bold🚨', 'iof', 'warplan', 'directli', 'target', 'home', 'beit', 'lahia', 'north', 'gaza', 'strip', 'destroy', 'completely.two', 'injuri', 'beenbold', 'report']\n",
      "1\t0.00000000\tb'bold iof warplan directli target home beit lahia north gaza strip destroy completely.two injuri beenbold report'\n",
      "THE TEXT IS: Video documentation of IOF warplanes directly striking another home in a residential area in Beit Hanoun, north of Gaza, a short time ago.\n",
      "THE PROCESSED TEXT IS: ['video', 'document', 'iof', 'warplan', 'directli', 'strike', 'anoth', 'home', 'residenti', 'area', 'beit', 'hanoun', 'north', 'gaza', 'short', 'time', 'ago']\n",
      "1\t0.00000000\tb'video document iof warplan directli strike anoth home residenti area beit hanoun north gaza short time ago'\n",
      "THE TEXT IS: bold🚨 The IOF is launching heavy airstrikes in the north, east and south of Gaza City, as well as in other areas across the Strip.\n",
      "THE PROCESSED TEXT IS: ['bold🚨', 'the', 'iof', 'launch', 'heavi', 'airstrik', 'north', 'east', 'south', 'gaza', 'citi', 'well', 'area', 'across', 'strip']\n",
      "1\t0.00000000\tb'bold the iof launch heavi airstrik north east south gaza citi well area across strip'\n",
      "THE TEXT IS: bold🚨 Missile sirens ring in occupied Asqalan and other settlements surrounding the Gaza Strip as the resistance in Gaza launches a heavy barrage of rockets towards the occupied territories, shortly after the statement issued by Saraya Al-Quds.\n",
      "THE PROCESSED TEXT IS: ['bold🚨', 'missil', 'siren', 'ring', 'occupi', 'asqalan', 'settlement', 'surround', 'gaza', 'strip', 'resist', 'gaza', 'launch', 'heavi', 'barrag', 'rocket', 'toward', 'occupi', 'territori', 'shortli', 'statement', 'issu', 'saraya', 'al-qud']\n",
      "1\t0.00000000\tb'bold missil siren ring occupi asqalan settlement surround gaza strip resist gaza launch heavi barrag rocket toward occupi territori shortli statement issu saraya al-qud'\n",
      "THE TEXT IS: bold🚨 IOF warplanes have targeted a home in Bi’r Al-Naaja, in the north of the Gaza Strip. An agricultural field in Khan Yunis, in the south of the Strip, has also been bombed as well as sites in Jabalia, in the north of the Strip.\n",
      "THE PROCESSED TEXT IS: ['bold🚨', 'iof', 'warplan', 'target', 'home', 'bi', '’', 'r', 'al-naaja', 'north', 'gaza', 'strip', 'an', 'agricultur', 'field', 'khan', 'yuni', 'south', 'strip', 'also', 'bomb', 'well', 'site', 'jabalia', 'north', 'strip']\n",
      "1\t0.00000000\tb'bold iof warplan target home bi  r al-naaja north gaza strip an agricultur field khan yuni south strip also bomb well site jabalia north strip'\n"
     ]
    },
    {
     "name": "stdout",
     "output_type": "stream",
     "text": [
      "THE TEXT IS: 🚨🚀 Missile sirens ring in all settlements surrounding Gaza as the resistance launches barrages of rockets towards them.\n",
      "THE PROCESSED TEXT IS: ['🚨🚀', 'missil', 'siren', 'ring', 'settlement', 'surround', 'gaza', 'resist', 'launch', 'barrag', 'rocket', 'toward']\n",
      "1\t0.00000000\tb' missil siren ring settlement surround gaza resist launch barrag rocket toward'\n",
      "THE TEXT IS: 🚨 A number of casualties are reported after IOF warplanes struck a group of rocket launchers in southern Gaza.\n",
      "THE PROCESSED TEXT IS: ['🚨', 'a', 'number', 'casualti', 'report', 'iof', 'warplan', 'struck', 'group', 'rocket', 'launcher', 'southern', 'gaza']\n",
      "1\t0.00000000\tb' a number casualti report iof warplan struck group rocket launcher southern gaza'\n",
      "THE TEXT IS: customemoji⏺stickers/AnimatedSticker.tgs🎥 RNN is now on TikTok! Support and follow us here:link\n",
      "THE PROCESSED TEXT IS: ['customemoji⏺stickers/animatedsticker.tgs🎥', 'rnn', 'tiktok', 'support', 'follow', 'us', 'link']\n",
      "1\t0.00000000\tb'customemojistickers/animatedsticker.tgs rnn tiktok support follow us link'\n",
      "THE TEXT IS: The IOF has raided the home of elected Hamas leader Dr. Azzam Salhab in AlKhalil.The IOF has confiscated a number of surveillance camera recordings in the area. Reports suggest that an unknown security incident took place in the area.\n",
      "THE PROCESSED TEXT IS: ['the', 'iof', 'raid', 'home', 'elect', 'hama', 'leader', 'dr.', 'azzam', 'salhab', 'alkhalil.th', 'iof', 'confisc', 'number', 'surveil', 'camera', 'record', 'area', 'report', 'suggest', 'unknown', 'secur', 'incid', 'took', 'place', 'area']\n",
      "1\t0.00000000\tb'the iof raid home elect hama leader dr. azzam salhab alkhalil.th iof confisc number surveil camera record area report suggest unknown secur incid took place area'\n",
      "THE TEXT IS: 🚨 A fierce explosion has been reported in the vicinity of Jenin refugee camp. As plumes of smoke rise, warning sirens have been activated across the city.\n",
      "THE PROCESSED TEXT IS: ['🚨', 'a', 'fierc', 'explos', 'report', 'vicin', 'jenin', 'refuge', 'camp', 'as', 'plume', 'smoke', 'rise', 'warn', 'siren', 'activ', 'across', 'citi']\n",
      "1\t0.00000000\tb' a fierc explos report vicin jenin refuge camp as plume smoke rise warn siren activ across citi'\n",
      "THE TEXT IS: IDF: The Commanding Officer of the Northern Command in a conversation with the heads of the local councils in the north: \"Our goal  to change the security situation in the north in a way that will allow the residents’ safe return\"The Commanding Officer of the Northern Command, MG Ori Gordin, met today (Friday) with the heads of the evacuated councils in the north. The meeting was held at the command headquarters and included a discussion with the heads of the local councils. In addition, a summary of intelligence and operational situational assessment, the command's operations during the war, and the processes of accelerating readiness for continued fighting in the northern sector were presented.MG Gordin emphasized to the heads of the councils that these meetings are an integral part of conducting the war and that the connection between the IDF and the local leadership is of great importance to the command's operations during war.Commanding Officer of the Northern Command, MG Ori Gordin: \"Our goal is to change the security situation in the north in a manner that will allow us to safely return the residents home to a state of security. We are determined to change the security reality that is already shifting these days and continue to prepare for an expansion of the war and to go on the offensive  this is our mission. We will continue to carry out the defensive battle, to strike Hezbollah and to deny its capabilities. Our mission is to protect the residents and communities of the north. The way we operate, and intend to continue, is partnership, full partnership with you and the residents. The residents of the north are what give us strength to continue, they are the tailwind that allows us to achieve the accomplishments we have reached so far in the north.\"Attached are related photos:link\n",
      "THE PROCESSED TEXT IS: ['idf', 'the', 'command', 'offic', 'northern', 'command', 'convers', 'head', 'local', 'council', 'north', '``', 'our', 'goal', 'chang', 'secur', 'situat', 'north', 'way', 'allow', 'resid', '’', 'safe', 'return', \"''\", 'the', 'command', 'offic', 'northern', 'command', 'mg', 'ori', 'gordin', 'met', 'today', 'friday', 'head', 'evacu', 'council', 'north', 'the', 'meet', 'held', 'command', 'headquart', 'includ', 'discuss', 'head', 'local', 'council', 'in', 'addit', 'summari', 'intellig', 'oper', 'situat', 'assess', 'command', \"'s\", 'oper', 'war', 'process', 'acceler', 'readi', 'continu', 'fight', 'northern', 'sector', 'presented.mg', 'gordin', 'emphas', 'head', 'council', 'meet', 'integr', 'part', 'conduct', 'war', 'connect', 'idf', 'local', 'leadership', 'great', 'import', 'command', \"'s\", 'oper', 'war.command', 'offic', 'northern', 'command', 'mg', 'ori', 'gordin', '``', 'our', 'goal', 'chang', 'secur', 'situat', 'north', 'manner', 'allow', 'us', 'safe', 'return', 'resid', 'home', 'state', 'secur', 'we', 'determin', 'chang', 'secur', 'realiti', 'alreadi', 'shift', 'day', 'continu', 'prepar', 'expans', 'war', 'go', 'offens', 'mission', 'we', 'continu', 'carri', 'defens', 'battl', 'strike', 'hezbollah', 'deni', 'capabl', 'our', 'mission', 'protect', 'resid', 'commun', 'north', 'the', 'way', 'oper', 'intend', 'continu', 'partnership', 'full', 'partnership', 'resid', 'the', 'resid', 'north', 'give', 'us', 'strength', 'continu', 'tailwind', 'allow', 'us', 'achiev', 'accomplish', 'reach', 'far', 'north', '``', 'attach', 'relat', 'photo', 'link']\n",
      "0\t1.00000000\tb\"idf the command offic northern command convers head local council north `` our goal chang secur situat north way allow resid  safe return '' the command offic northern command mg ori gordin met today friday head evacu council north the meet held command headquart includ discuss head local council in addit summari intellig oper situat assess command 's oper war process acceler readi continu fight northern sector presented.mg gordin emphas head council meet integr part conduct war connect idf local leadership great import command 's oper war.command offic northern command mg ori gordin `` our goal chang secur situat north manner allow us safe return resid home state secur we determin chang secur realiti alreadi shift day continu prepar expans war go offens mission we continu carri defens battl strike hezbollah deni capabl our mission protect resid commun north the way oper intend continu partnership full partnership resid the resid north give us strength continu tailwind allow us achiev accomplish reach far north `` attach relat photo link\"\n",
      "THE TEXT IS: IDF: The IAF thwarted an aerial threat  the seventh operational interception of the \"Arrow\" longrange Aerial Defense System since the beginning of the warIn the early hours of the morning (Thursday), the \"Arrow\" Aerial Defense System detected a longrange ballistic target that was launched from southeast towards the airspace of the State of Israel.The systems followed the trajectory of the missile, and the soldiers of the \"Arrow\" Unit of the Aerial Defense Array intercepted it outside the borders of the State of Israel.Attached is a sync of a Battery Commander in the “Arrow” Unit, Maj. S.: link\n",
      "THE PROCESSED TEXT IS: ['idf', 'the', 'iaf', 'thwart', 'aerial', 'threat', 'seventh', 'oper', 'intercept', '``', 'arrow', \"''\", 'longrang', 'aerial', 'defens', 'system', 'sinc', 'begin', 'warin', 'earli', 'hour', 'morn', 'thursday', '``', 'arrow', \"''\", 'aerial', 'defens', 'system', 'detect', 'longrang', 'ballist', 'target', 'launch', 'southeast', 'toward', 'airspac', 'state', 'israel.th', 'system', 'follow', 'trajectori', 'missil', 'soldier', '``', 'arrow', \"''\", 'unit', 'aerial', 'defens', 'array', 'intercept', 'outsid', 'border', 'state', 'israel.attach', 'sync', 'batteri', 'command', '“', 'arrow', '”', 'unit', 'maj.', 's.', 'link']\n",
      "0\t1.00000000\tb\"idf the iaf thwart aerial threat seventh oper intercept `` arrow '' longrang aerial defens system sinc begin warin earli hour morn thursday `` arrow '' aerial defens system detect longrang ballist target launch southeast toward airspac state israel.th system follow trajectori missil soldier `` arrow '' unit aerial defens array intercept outsid border state israel.attach sync batteri command  arrow  unit maj. s. link\"\n"
     ]
    },
    {
     "name": "stdout",
     "output_type": "stream",
     "text": [
      "THE TEXT IS: Attached are the full remarks of the Chief of the General Staff: \"So far, the results are good, but see, we are targeting the leaders. Marwan Issa, the arrest of senior operatives. This is very, very important for pressuring Hamas, it's very important for pressuring the negotiations as well, and we are serving two purposes here. A heavy strike on Hamas, dismantling Hamas, killing Hamas’ military leadership, striking the civil leadership, striking the operatives. And not to allow such a place to be controlled, and we are also putting pressure on the negotiations. We came here to apprehend many operatives, with an emphasis on senior operatives, and to kill those who fight. We prefer prisoners, they are important cards, for interrogations, you understand this, to kill whoever fights. So far, the performance of the mission is very good. The method of operation, I tell you, from the start we've been talking about the element of surprise operations, deception, and here maybe the best example so far of using it. A surprising arrival, to a place that Hamas returned to, turned it into a center of activity, a command and control center, operating from within it, managing from within it an attempt to control the northern Strip. And then truly a surprising arrival in just minutes, good closure, entry of forces. See, entry into combat in a hospital compound, teams, patients, those taking shelter. All these things together, with the firing here about 20 terrorists who were killed on entry. The level of combat and mission performance in the first stage is very very high.\"\n",
      "THE PROCESSED TEXT IS: ['attach', 'full', 'remark', 'chief', 'gener', 'staff', '``', 'so', 'far', 'result', 'good', 'see', 'target', 'leader', 'marwan', 'issa', 'arrest', 'senior', 'oper', 'thi', 'import', 'pressur', 'hama', \"'s\", 'import', 'pressur', 'negoti', 'well', 'serv', 'two', 'purpos', 'a', 'heavi', 'strike', 'hama', 'dismantl', 'hama', 'kill', 'hama', '’', 'militari', 'leadership', 'strike', 'civil', 'leadership', 'strike', 'oper', 'and', 'allow', 'place', 'control', 'also', 'put', 'pressur', 'negoti', 'we', 'came', 'apprehend', 'mani', 'oper', 'emphasi', 'senior', 'oper', 'kill', 'fight', 'we', 'prefer', 'prison', 'import', 'card', 'interrog', 'understand', 'kill', 'whoever', 'fight', 'so', 'far', 'perform', 'mission', 'good', 'the', 'method', 'oper', 'i', 'tell', 'start', \"'ve\", 'talk', 'element', 'surpris', 'oper', 'decept', 'mayb', 'best', 'exampl', 'far', 'use', 'a', 'surpris', 'arriv', 'place', 'hama', 'return', 'turn', 'center', 'activ', 'command', 'control', 'center', 'oper', 'within', 'manag', 'within', 'attempt', 'control', 'northern', 'strip', 'and', 'truli', 'surpris', 'arriv', 'minut', 'good', 'closur', 'entri', 'forc', 'see', 'entri', 'combat', 'hospit', 'compound', 'team', 'patient', 'take', 'shelter', 'all', 'thing', 'togeth', 'fire', '20', 'terrorist', 'kill', 'entri', 'the', 'level', 'combat', 'mission', 'perform', 'first', 'stage', 'high', \"''\"]\n",
      "0\t1.00000000\tb\"attach full remark chief gener staff `` so far result good see target leader marwan issa arrest senior oper thi import pressur hama 's import pressur negoti well serv two purpos a heavi strike hama dismantl hama kill hama  militari leadership strike civil leadership strike oper and allow place control also put pressur negoti we came apprehend mani oper emphasi senior oper kill fight we prefer prison import card interrog understand kill whoever fight so far perform mission good the method oper i tell start 've talk element surpris oper decept mayb best exampl far use a surpris arriv place hama return turn center activ command control center oper within manag within attempt control northern strip and truli surpris arriv minut good closur entri forc see entri combat hospit compound team patient take shelter all thing togeth fire 20 terrorist kill entri the level combat mission perform first stage high ''\"\n",
      "THE TEXT IS: IDF: New UAV Squadron Opened in the Israeli Air ForceLast night (Sunday), a new UAV Squadron was opened at the Palmachim Air Force base. The 147th \"Battering Ram\" Squadron will operate the \"Star\" unmanned aerial vehicle. The squadron was opened as part of the expansion of the \"Star\" UAV forces in combat and changes in the organization of the UAV Array. The UAVs carry out various strikes and intelligencegathering missions in the south, north, and Judea and Samaria at all hours of the day.*Commanding Officer of the Israeli Air Force, Maj. Gen. Tomer Bar*: \"This is a time of war, a historic time. We are opening the 147th Squadron, which is a tremendous addition to the force. In this just war, the entire UAV Array demonstrates its operational competence and extremely high operational effectiveness. Thousands of Hamas operatives have been killed, a range of intelligence gathering missions, 24/7 availability and flexibility for about half a year in the war.\"*Commanding Officer of the Palmachim Air Force Base, Brig. Gen. Omri Dor*: \"The UAV Array is at the forefront of the IAF's operational activities and carries out tasks of intelligence gathering, recording aerial footage, and strikes in cooperation with the ground forces in ground operations. Over the last six months, the array has adapted, changed rapidly, and adjusted itself to the needs of this time. This, while demonstrating professionalism, initiating contact and a deep partnership with the ground forces.\"Attached is footage of a UAV strike on a vehicle containing terrorists from Lebanon: link are related photos: link\n",
      "THE PROCESSED TEXT IS: ['idf', 'new', 'uav', 'squadron', 'open', 'isra', 'air', 'forcelast', 'night', 'sunday', 'new', 'uav', 'squadron', 'open', 'palmachim', 'air', 'forc', 'base', 'the', '147th', '``', 'batter', 'ram', \"''\", 'squadron', 'oper', '``', 'star', \"''\", 'unman', 'aerial', 'vehicl', 'the', 'squadron', 'open', 'part', 'expans', '``', 'star', \"''\", 'uav', 'forc', 'combat', 'chang', 'organ', 'uav', 'array', 'the', 'uav', 'carri', 'variou', 'strike', 'intelligencegath', 'mission', 'south', 'north', 'judea', 'samaria', 'hour', 'day', 'command', 'offic', 'isra', 'air', 'forc', 'maj.', 'gen.', 'tomer', 'bar', '``', 'thi', 'time', 'war', 'histor', 'time', 'we', 'open', '147th', 'squadron', 'tremend', 'addit', 'forc', 'in', 'war', 'entir', 'uav', 'array', 'demonstr', 'oper', 'compet', 'extrem', 'high', 'oper', 'effect', 'thousand', 'hama', 'oper', 'kill', 'rang', 'intellig', 'gather', 'mission', '24/7', 'avail', 'flexibl', 'half', 'year', 'war', '``', 'command', 'offic', 'palmachim', 'air', 'forc', 'base', 'brig', 'gen.', 'omri', 'dor', '``', 'the', 'uav', 'array', 'forefront', 'iaf', \"'s\", 'oper', 'activ', 'carri', 'task', 'intellig', 'gather', 'record', 'aerial', 'footag', 'strike', 'cooper', 'ground', 'forc', 'ground', 'oper', 'over', 'last', 'six', 'month', 'array', 'adapt', 'chang', 'rapidli', 'adjust', 'need', 'time', 'thi', 'demonstr', 'profession', 'initi', 'contact', 'deep', 'partnership', 'ground', 'forc', '``', 'attach', 'footag', 'uav', 'strike', 'vehicl', 'contain', 'terrorist', 'lebanon', 'link', 'relat', 'photo', 'link']\n",
      "0\t1.00000000\tb\"idf new uav squadron open isra air forcelast night sunday new uav squadron open palmachim air forc base the 147th `` batter ram '' squadron oper `` star '' unman aerial vehicl the squadron open part expans `` star '' uav forc combat chang organ uav array the uav carri variou strike intelligencegath mission south north judea samaria hour day command offic isra air forc maj. gen. tomer bar `` thi time war histor time we open 147th squadron tremend addit forc in war entir uav array demonstr oper compet extrem high oper effect thousand hama oper kill rang intellig gather mission 24/7 avail flexibl half year war `` command offic palmachim air forc base brig gen. omri dor `` the uav array forefront iaf 's oper activ carri task intellig gather record aerial footag strike cooper ground forc ground oper over last six month array adapt chang rapidli adjust need time thi demonstr profession initi contact deep partnership ground forc `` attach footag uav strike vehicl contain terrorist lebanon link relat photo link\"\n",
      "THE TEXT IS: IDF: The Commanding Officer of the 91st Division and the the Commanding Officer of the 146th Division met with heads of authorities and councils in the north before Passover: \"Our commitment is to be here until the reality changes\"The Commanding Officer of the 91st Galilee Division, BG Shay Kalper and the Commanding Officer of the 146th Division, BG Yisrael Shomer met yesterday (Wednesday) with the heads of the local authorities, councils, and the security officers in the north of Israel.As part of the meeting, a conversation was held with the heads of the authorities, in which they were presented with the situational assessment so far, as well as the processes to accelerate the readiness for continued fighting in the north of Israel.The commanding officers of the divisions expressed their appreciation to the heads of the local authorities, councils, and the security officers for demonstrating true leadership and dedication over the past six months. He thanked them for playing an integral role in maintaining security in the region.From the words of the Commanding Officer of the 91st Galilee Division, BG Shay Kalper: \"We are all writing a chapter in the history of the Galilee. We are determined and ready to win and in our generation we were privileged to take part in this matter. The period we are in symbolizes the connection between our generations, from the Seder night when we will delve into the history of our people, through Holocaust Remembrance Day, Yom HaZikaron and Independence Day that remind us why we are here and why we need to preserve and protect our existence.\"From the words of the Commanding Officer of the 146th Division, BG Yisrael Shomer: \"I want to say thank you and express great appreciation for the resilience and leadership. Every day, I learn from you what leadership is. I see the resilience and the firm stand, when you stand for your values ​​and all of our values and represent the residents. My personal commitment and that of my subordinates is to be here until the security reality changes.”Attached is a related video: link Attached are related photos: link\n",
      "THE PROCESSED TEXT IS: ['idf', 'the', 'command', 'offic', '91st', 'divis', 'command', 'offic', '146th', 'divis', 'met', 'head', 'author', 'council', 'north', 'passov', '``', 'our', 'commit', 'realiti', 'chang', \"''\", 'the', 'command', 'offic', '91st', 'galile', 'divis', 'bg', 'shay', 'kalper', 'command', 'offic', '146th', 'divis', 'bg', 'yisrael', 'shomer', 'met', 'yesterday', 'wednesday', 'head', 'local', 'author', 'council', 'secur', 'offic', 'north', 'israel.a', 'part', 'meet', 'convers', 'held', 'head', 'author', 'present', 'situat', 'assess', 'far', 'well', 'process', 'acceler', 'readi', 'continu', 'fight', 'north', 'israel.th', 'command', 'offic', 'divis', 'express', 'appreci', 'head', 'local', 'author', 'council', 'secur', 'offic', 'demonstr', 'true', 'leadership', 'dedic', 'past', 'six', 'month', 'he', 'thank', 'play', 'integr', 'role', 'maintain', 'secur', 'region.from', 'word', 'command', 'offic', '91st', 'galile', 'divis', 'bg', 'shay', 'kalper', '``', 'we', 'write', 'chapter', 'histori', 'galile', 'we', 'determin', 'readi', 'win', 'gener', 'privileg', 'take', 'part', 'matter', 'the', 'period', 'symbol', 'connect', 'gener', 'seder', 'night', 'delv', 'histori', 'peopl', 'holocaust', 'remembr', 'day', 'yom', 'hazikaron', 'independ', 'day', 'remind', 'us', 'need', 'preserv', 'protect', 'exist', '``', 'from', 'word', 'command', 'offic', '146th', 'divis', 'bg', 'yisrael', 'shomer', '``', 'i', 'want', 'say', 'thank', 'express', 'great', 'appreci', 'resili', 'leadership', 'everi', 'day', 'i', 'learn', 'leadership', 'i', 'see', 'resili', 'firm', 'stand', 'stand', 'valu', '\\u200b\\u200band', 'valu', 'repres', 'resid', 'my', 'person', 'commit', 'subordin', 'secur', 'realiti', 'changes.', '”', 'attach', 'relat', 'video', 'link', 'attach', 'relat', 'photo', 'link']\n",
      "0\t1.00000000\tb\"idf the command offic 91st divis command offic 146th divis met head author council north passov `` our commit realiti chang '' the command offic 91st galile divis bg shay kalper command offic 146th divis bg yisrael shomer met yesterday wednesday head local author council secur offic north israel.a part meet convers held head author present situat assess far well process acceler readi continu fight north israel.th command offic divis express appreci head local author council secur offic demonstr true leadership dedic past six month he thank play integr role maintain secur region.from word command offic 91st galile divis bg shay kalper `` we write chapter histori galile we determin readi win gener privileg take part matter the period symbol connect gener seder night delv histori peopl holocaust remembr day yom hazikaron independ day remind us need preserv protect exist `` from word command offic 146th divis bg yisrael shomer `` i want say thank express great appreci resili leadership everi day i learn leadership i see resili firm stand stand valu and valu repres resid my person commit subordin secur realiti changes.  attach relat video link attach relat photo link\"\n"
     ]
    }
   ],
   "source": [
    "# Some error analysis done for you\n",
    "print('Label Predicted TEXT')\n",
    "for x,y in zip(test_x,test_y):\n",
    "    y_hat = utils.predict_text(x, freqs, theta_p)\n",
    "\n",
    "    if np.abs(y - (y_hat > 0.5)) > 0:\n",
    "        print('THE TEXT IS:', x)\n",
    "        print('THE PROCESSED TEXT IS:', utils.process_text(x))\n",
    "        print('%d\\t%0.8f\\t%s' % (y, y_hat, ' '.join(utils.process_text(x)).encode('ascii', 'ignore')))"
   ]
  },
  {
   "cell_type": "code",
   "execution_count": 39,
   "metadata": {
    "id": "zTIX_ezLDnep"
   },
   "outputs": [
    {
     "name": "stdout",
     "output_type": "stream",
     "text": [
      "\n",
      "Logistic regression model's accuracy = 0.9908\n"
     ]
    }
   ],
   "source": [
    "tmp_accuracy = utils.test_logistic_regression(test_x, test_y, freqs, theta_p)\n",
    "print(f\"Logistic regression model's accuracy = {tmp_accuracy:.4f}\")"
   ]
  },
  {
   "cell_type": "code",
   "execution_count": null,
   "metadata": {
    "id": "8hnzItZXDnbx"
   },
   "outputs": [],
   "source": []
  },
  {
   "cell_type": "code",
   "execution_count": null,
   "metadata": {
    "id": "khVSaTIiDnZL"
   },
   "outputs": [],
   "source": []
  },
  {
   "cell_type": "code",
   "execution_count": null,
   "metadata": {
    "id": "GklU1wHhDnWX"
   },
   "outputs": [],
   "source": []
  },
  {
   "cell_type": "code",
   "execution_count": null,
   "metadata": {
    "id": "Ozzyl4idDnTO"
   },
   "outputs": [],
   "source": []
  },
  {
   "cell_type": "code",
   "execution_count": null,
   "metadata": {
    "id": "A0Ue8oEeDnP0"
   },
   "outputs": [],
   "source": []
  },
  {
   "cell_type": "code",
   "execution_count": null,
   "metadata": {
    "id": "6EFndCX-DnLN"
   },
   "outputs": [],
   "source": []
  },
  {
   "cell_type": "code",
   "execution_count": 11,
   "metadata": {
    "colab": {
     "base_uri": "https://localhost:8080/"
    },
    "id": "zN_5GSHu3uoK",
    "outputId": "ce304847-9503-46a3-d05f-3f7d9c5468f8"
   },
   "outputs": [],
   "source": [
    "#selected 11 most common words from each at random\n",
    "\n",
    "keys = ['arrest','entiti','tulkarem','settlement','resist','martyr','zionist','allah', '🚨', 'soldier',\n",
    "         'hospit','fighter','tunnel','organ','lebanon','terrorist','hezbollah','infrastructur','rocket','israel','conduct']\n",
    "\n",
    "\n",
    "# each element consist of a sublist with this pattern: [<word>, <positive_count>, <negative_count>]\n",
    "data = []\n",
    "\n",
    "# loop through our selected words\n",
    "for word in keys:\n",
    "\n",
    "    # initialize positive and negative counts\n",
    "    ham = 0\n",
    "    idf = 0\n",
    "\n",
    "    # retrieve number of positive counts\n",
    "    if (word, 1) in freqs:\n",
    "        ham = freqs[(word, 1)]\n",
    "\n",
    "    # retrieve number of negative counts\n",
    "    if (word, 0) in freqs:\n",
    "        idf = freqs[(word, 0)]\n",
    "\n",
    "    # append the word counts to the table\n",
    "    data.append([word, ham, idf])\n"
   ]
  },
  {
   "cell_type": "code",
   "execution_count": 12,
   "metadata": {
    "colab": {
     "base_uri": "https://localhost:8080/",
     "height": 750
    },
    "id": "jsqHIoJW3ul0",
    "outputId": "ec269068-7cca-4c6b-9195-83a0079c1c6d"
   },
   "outputs": [
    {
     "name": "stderr",
     "output_type": "stream",
     "text": [
      "/Users/timurburhanov/miniconda3/envs/first_env/lib/python3.11/site-packages/IPython/core/pylabtools.py:152: UserWarning: Glyph 128680 (\\N{POLICE CARS REVOLVING LIGHT}) missing from current font.\n",
      "  fig.canvas.print_figure(bytes_io, **kw)\n"
     ]
    },
    {
     "data": {
      "image/png": "[encoded data removed]",
      "text/plain": [
       "<Figure size 800x800 with 1 Axes>"
      ]
     },
     "metadata": {},
     "output_type": "display_data"
    }
   ],
   "source": [
    "fig, ax = plt.subplots(figsize = (8, 8))\n",
    "\n",
    "# convert positive raw counts to logarithmic scale. we add 1 to avoid log(0)\n",
    "x = np.log([x[1] + 1 for x in data])\n",
    "\n",
    "# do the same for the negative counts\n",
    "y = np.log([x[2] + 1 for x in data])\n",
    "\n",
    "# Plot a dot for each pair of words\n",
    "ax.scatter(x, y)\n",
    "\n",
    "# assign axis labels\n",
    "plt.xlabel(\"Log Hammas count\")\n",
    "plt.ylabel(\"Log IDF count\")\n",
    "\n",
    "# Add the word as the label at the same position as you added the points just before\n",
    "for i in range(0, len(data)):\n",
    "    ax.annotate(data[i][0], (x[i], y[i]), fontsize=12)\n",
    "\n",
    "ax.plot([0, 9], [0, 9], color = 'red') # Plot the red line that divides the 2 areas.\n",
    "plt.show()"
   ]
  },
  {
   "cell_type": "markdown",
   "metadata": {
    "id": "YNbTyJnvEWud"
   },
   "source": [
    "This is experimental code maybe for later"
   ]
  },
  {
   "cell_type": "code",
   "execution_count": 14,
   "metadata": {
    "id": "SDSNowUQ2p9E"
   },
   "outputs": [
    {
     "ename": "NameError",
     "evalue": "name 'idf_tokens' is not defined",
     "output_type": "error",
     "traceback": [
      "\u001b[0;31m---------------------------------------------------------------------------\u001b[0m",
      "\u001b[0;31mNameError\u001b[0m                                 Traceback (most recent call last)",
      "Cell \u001b[0;32mIn[14], line 1\u001b[0m\n\u001b[0;32m----> 1\u001b[0m bigrams \u001b[38;5;241m=\u001b[39m ngrams(idf_tokens, \u001b[38;5;241m2\u001b[39m)\n\u001b[1;32m      3\u001b[0m pd\u001b[38;5;241m.\u001b[39mSeries(bigrams)\u001b[38;5;241m.\u001b[39mvalue_counts()\n",
      "\u001b[0;31mNameError\u001b[0m: name 'idf_tokens' is not defined"
     ]
    }
   ],
   "source": [
    "bigrams = ngrams(idf_tokens, 2)\n",
    "\n",
    "pd.Series(bigrams).value_counts()"
   ]
  },
  {
   "cell_type": "code",
   "execution_count": null,
   "metadata": {
    "id": "XlQL6zpIEPTm"
   },
   "outputs": [],
   "source": [
    "words_idf = []\n",
    "\n",
    "for wordList in idf_tokens:\n",
    "    words_idf += wordList\n",
    "\n",
    "words_hammas = []\n",
    "\n",
    "for wordList in hammas_tokens:\n",
    "    words_hammas += wordList\n",
    "\n",
    "#remove 100 most common words based on Brown corpus\n",
    "fdist = FreqDist(words_idf)\n",
    "mostcommon_idf = fdist.most_common(100)\n",
    "\n",
    "fdist = FreqDist(words_hammas)\n",
    "mostcommon_hammas = fdist.most_common(100)\n",
    "mostcommon_hammas"
   ]
  },
  {
   "cell_type": "code",
   "execution_count": null,
   "metadata": {},
   "outputs": [],
   "source": []
  }
 ],
 "metadata": {
  "colab": {
   "include_colab_link": true,
   "provenance": []
  },
  "kernelspec": {
   "display_name": "Python 3 (ipykernel)",
   "language": "python",
   "name": "python3"
  },
  "language_info": {
   "codemirror_mode": {
    "name": "ipython",
    "version": 3
   },
   "file_extension": ".py",
   "mimetype": "text/x-python",
   "name": "python",
   "nbconvert_exporter": "python",
   "pygments_lexer": "ipython3",
   "version": "3.11.4"
  }
 },
 "nbformat": 4,
 "nbformat_minor": 1
}
